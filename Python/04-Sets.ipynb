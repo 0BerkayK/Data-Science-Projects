{
 "cells": [
  {
   "cell_type": "code",
   "execution_count": 1,
   "id": "c372c11b-4c69-4793-9dfc-670c2320fabb",
   "metadata": {},
   "outputs": [],
   "source": [
    "# Sets is not contain same elements"
   ]
  },
  {
   "cell_type": "code",
   "execution_count": 3,
   "id": "fddd89b0-9905-4841-b5c2-7d63b909b95b",
   "metadata": {},
   "outputs": [],
   "source": [
    "myList = [1,2,3,1,2,3]"
   ]
  },
  {
   "cell_type": "code",
   "execution_count": 5,
   "id": "ea4d71d5-635f-4b30-ae06-d139b6b83b84",
   "metadata": {},
   "outputs": [
    {
     "data": {
      "text/plain": [
       "[1, 2, 3, 1, 2, 3]"
      ]
     },
     "execution_count": 5,
     "metadata": {},
     "output_type": "execute_result"
    }
   ],
   "source": [
    "myList"
   ]
  },
  {
   "cell_type": "code",
   "execution_count": 9,
   "id": "b868ae0c-a845-45c5-bac1-49f6d016e3a8",
   "metadata": {},
   "outputs": [
    {
     "data": {
      "text/plain": [
       "{1, 2, 3}"
      ]
     },
     "execution_count": 9,
     "metadata": {},
     "output_type": "execute_result"
    }
   ],
   "source": [
    "mySet = set(myList)\n",
    "mySet"
   ]
  },
  {
   "cell_type": "code",
   "execution_count": 21,
   "id": "95fc6563-106b-4824-a814-124a70371a77",
   "metadata": {},
   "outputs": [
    {
     "data": {
      "text/plain": [
       "set"
      ]
     },
     "execution_count": 21,
     "metadata": {},
     "output_type": "execute_result"
    }
   ],
   "source": [
    "myNewSet = {\"b\",\"e\",\"r\",\"k\",\"a\",\"y\"}\n",
    "type(myNewSet)"
   ]
  },
  {
   "cell_type": "code",
   "execution_count": 25,
   "id": "9f4dacef-9eb9-4ba7-ae53-1df5b73148dd",
   "metadata": {},
   "outputs": [
    {
     "data": {
      "text/plain": [
       "set"
      ]
     },
     "execution_count": 25,
     "metadata": {},
     "output_type": "execute_result"
    }
   ],
   "source": [
    "myEmptySet = set()\n",
    "\n",
    "type(myEmptySet)"
   ]
  },
  {
   "cell_type": "code",
   "execution_count": 31,
   "id": "2574b626-9712-4a98-af0c-df94462df7a2",
   "metadata": {},
   "outputs": [],
   "source": [
    "myEmptySet.add(10) # We can add an element to empty set"
   ]
  },
  {
   "cell_type": "code",
   "execution_count": 33,
   "id": "84f4f21b-1c4f-4dc3-8c87-c53b541ad30d",
   "metadata": {},
   "outputs": [
    {
     "data": {
      "text/plain": [
       "{10}"
      ]
     },
     "execution_count": 33,
     "metadata": {},
     "output_type": "execute_result"
    }
   ],
   "source": [
    "myEmptySet"
   ]
  },
  {
   "cell_type": "code",
   "execution_count": null,
   "id": "78f5952b-1955-4788-a396-3322bbf4cd7b",
   "metadata": {},
   "outputs": [],
   "source": []
  }
 ],
 "metadata": {
  "kernelspec": {
   "display_name": "Python 3 (ipykernel)",
   "language": "python",
   "name": "python3"
  },
  "language_info": {
   "codemirror_mode": {
    "name": "ipython",
    "version": 3
   },
   "file_extension": ".py",
   "mimetype": "text/x-python",
   "name": "python",
   "nbconvert_exporter": "python",
   "pygments_lexer": "ipython3",
   "version": "3.11.7"
  }
 },
 "nbformat": 4,
 "nbformat_minor": 5
}
