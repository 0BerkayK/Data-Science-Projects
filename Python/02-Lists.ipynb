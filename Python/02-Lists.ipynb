{
 "cells": [
  {
   "cell_type": "code",
   "execution_count": 2,
   "id": "e4b54937-3d25-47e0-85d8-d9295a4734a6",
   "metadata": {},
   "outputs": [],
   "source": [
    "myString = \"Berkay Korcum\""
   ]
  },
  {
   "cell_type": "code",
   "execution_count": 4,
   "id": "d4ff2d9b-87aa-4b16-9198-c72279787d17",
   "metadata": {},
   "outputs": [],
   "source": [
    "# immutability & mutable"
   ]
  },
  {
   "cell_type": "code",
   "execution_count": 8,
   "id": "5e95942d-c736-444a-9b5e-a45bb0ea2027",
   "metadata": {},
   "outputs": [
    {
     "ename": "TypeError",
     "evalue": "'str' object does not support item assignment",
     "output_type": "error",
     "traceback": [
      "\u001b[1;31m---------------------------------------------------------------------------\u001b[0m",
      "\u001b[1;31mTypeError\u001b[0m                                 Traceback (most recent call last)",
      "Cell \u001b[1;32mIn[8], line 1\u001b[0m\n\u001b[1;32m----> 1\u001b[0m myString[\u001b[38;5;241m0\u001b[39m] \u001b[38;5;241m=\u001b[39m \u001b[38;5;124m\"\u001b[39m\u001b[38;5;124mA\u001b[39m\u001b[38;5;124m\"\u001b[39m\n",
      "\u001b[1;31mTypeError\u001b[0m: 'str' object does not support item assignment"
     ]
    }
   ],
   "source": [
    "myString[0] = \"A\" # There is an error because of the immutability"
   ]
  },
  {
   "cell_type": "code",
   "execution_count": 10,
   "id": "75385373-a820-452c-85c7-db1dbc0fe9c2",
   "metadata": {},
   "outputs": [
    {
     "data": {
      "text/plain": [
       "list"
      ]
     },
     "execution_count": 10,
     "metadata": {},
     "output_type": "execute_result"
    }
   ],
   "source": [
    "myList = [10,20,30,40]\n",
    "# List is a collection\n",
    "# It allows us to accommodate different elements at the same time.\n",
    "\n",
    "type(myList)"
   ]
  },
  {
   "cell_type": "code",
   "execution_count": 12,
   "id": "8eeb1893-beff-49bc-a78b-c95c87fca517",
   "metadata": {},
   "outputs": [],
   "source": [
    "myNumber = 60\n",
    "myOtherNumber = 70\n",
    "\n",
    "myNumberList = [myNumber,myOtherNumber]\n",
    "\n"
   ]
  },
  {
   "cell_type": "code",
   "execution_count": 17,
   "id": "0a94648e-083b-4735-bbf0-cb88276624cf",
   "metadata": {},
   "outputs": [
    {
     "data": {
      "text/plain": [
       "60"
      ]
     },
     "execution_count": 17,
     "metadata": {},
     "output_type": "execute_result"
    }
   ],
   "source": [
    "myNumberList[0]"
   ]
  },
  {
   "cell_type": "code",
   "execution_count": 19,
   "id": "e3a025ae-c79f-4a20-b78d-5818374774f4",
   "metadata": {},
   "outputs": [
    {
     "data": {
      "text/plain": [
       "70"
      ]
     },
     "execution_count": 19,
     "metadata": {},
     "output_type": "execute_result"
    }
   ],
   "source": [
    "myNumberList[1]"
   ]
  },
  {
   "cell_type": "code",
   "execution_count": 21,
   "id": "89d37bb7-2576-4329-9fb4-78d29aa5842e",
   "metadata": {},
   "outputs": [
    {
     "data": {
      "text/plain": [
       "[10, 20, 30, 40]"
      ]
     },
     "execution_count": 21,
     "metadata": {},
     "output_type": "execute_result"
    }
   ],
   "source": [
    "myList"
   ]
  },
  {
   "cell_type": "code",
   "execution_count": 23,
   "id": "3b16546b-6cba-4b20-9a2d-7fc3b9c26df8",
   "metadata": {},
   "outputs": [],
   "source": [
    "myList[0] = 120 # We can assign"
   ]
  },
  {
   "cell_type": "code",
   "execution_count": 45,
   "id": "dcc0825e-8acb-49a1-805e-d01660ba82a7",
   "metadata": {},
   "outputs": [
    {
     "data": {
      "text/plain": [
       "[120, 20, 30, 50]"
      ]
     },
     "execution_count": 45,
     "metadata": {},
     "output_type": "execute_result"
    }
   ],
   "source": [
    "myList"
   ]
  },
  {
   "cell_type": "markdown",
   "id": "fee961d3-3005-4de7-8edd-9a653d8e47ae",
   "metadata": {},
   "source": [
    "## List Methods"
   ]
  },
  {
   "cell_type": "code",
   "execution_count": 41,
   "id": "36ea6571-a9ed-43c6-86ad-96c385698e53",
   "metadata": {},
   "outputs": [],
   "source": [
    "myList.append(50) # Add an element end of the list"
   ]
  },
  {
   "cell_type": "code",
   "execution_count": 47,
   "id": "c0841e33-bc34-4aff-9aa7-433e1f0828a7",
   "metadata": {},
   "outputs": [
    {
     "data": {
      "text/plain": [
       "[120, 20, 30, 50]"
      ]
     },
     "execution_count": 47,
     "metadata": {},
     "output_type": "execute_result"
    }
   ],
   "source": [
    "myList"
   ]
  },
  {
   "cell_type": "code",
   "execution_count": 49,
   "id": "8a1daa82-2eb4-422a-ac51-d07d16a25652",
   "metadata": {},
   "outputs": [
    {
     "data": {
      "text/plain": [
       "[120, 20, 30]"
      ]
     },
     "execution_count": 49,
     "metadata": {},
     "output_type": "execute_result"
    }
   ],
   "source": [
    "myList.pop() # Remove the last element of List\n",
    "myList"
   ]
  },
  {
   "cell_type": "code",
   "execution_count": 51,
   "id": "7206c20a-e620-4672-a775-b454c89b8d2b",
   "metadata": {},
   "outputs": [
    {
     "data": {
      "text/plain": [
       "[120, 20]"
      ]
     },
     "execution_count": 51,
     "metadata": {},
     "output_type": "execute_result"
    }
   ],
   "source": [
    "myList.remove(30) # Remove the element we want\n",
    "myList"
   ]
  },
  {
   "cell_type": "code",
   "execution_count": 55,
   "id": "3105cbac-57ec-4b9a-8a24-6ad23eea98d3",
   "metadata": {},
   "outputs": [
    {
     "data": {
      "text/plain": [
       "1"
      ]
     },
     "execution_count": 55,
     "metadata": {},
     "output_type": "execute_result"
    }
   ],
   "source": [
    "myList.count(120) # Finds out an element haw many in the list"
   ]
  },
  {
   "cell_type": "code",
   "execution_count": 57,
   "id": "787a5e5d-224f-41b2-802d-535fd722085a",
   "metadata": {},
   "outputs": [
    {
     "data": {
      "text/plain": [
       "'Eskişehir'"
      ]
     },
     "execution_count": 57,
     "metadata": {},
     "output_type": "execute_result"
    }
   ],
   "source": [
    "myStringList = [\"Berkay\", \"Korcum\", \"Eskişehir\",\"Osmangazi\", \"University\"]\n",
    "myStringList[2]"
   ]
  },
  {
   "cell_type": "code",
   "execution_count": 59,
   "id": "51ee20fe-1878-46fb-9c9c-8471b0303294",
   "metadata": {},
   "outputs": [
    {
     "data": {
      "text/plain": [
       "['Berkay',\n",
       " 'Korcum',\n",
       " 'Eskişehir',\n",
       " 'Osmangazi',\n",
       " 'University',\n",
       " 'Berkay',\n",
       " 'Korcum',\n",
       " 'Eskişehir',\n",
       " 'Osmangazi',\n",
       " 'University',\n",
       " 'Berkay',\n",
       " 'Korcum',\n",
       " 'Eskişehir',\n",
       " 'Osmangazi',\n",
       " 'University',\n",
       " 'Berkay',\n",
       " 'Korcum',\n",
       " 'Eskişehir',\n",
       " 'Osmangazi',\n",
       " 'University',\n",
       " 'Berkay',\n",
       " 'Korcum',\n",
       " 'Eskişehir',\n",
       " 'Osmangazi',\n",
       " 'University']"
      ]
     },
     "execution_count": 59,
     "metadata": {},
     "output_type": "execute_result"
    }
   ],
   "source": [
    "myStringList * 5 # We can multipy the list but we can't add or divide"
   ]
  },
  {
   "cell_type": "code",
   "execution_count": 67,
   "id": "b951599e-1fed-489e-98b9-e47a2caf7347",
   "metadata": {},
   "outputs": [],
   "source": [
    "myStringList.reverse() # for reverse all elements"
   ]
  },
  {
   "cell_type": "code",
   "execution_count": 69,
   "id": "c0247741-911f-4720-a2c0-01ff6e10447e",
   "metadata": {},
   "outputs": [
    {
     "data": {
      "text/plain": [
       "['University', 'Osmangazi', 'Eskişehir', 'Korcum', 'Berkay']"
      ]
     },
     "execution_count": 69,
     "metadata": {},
     "output_type": "execute_result"
    }
   ],
   "source": [
    "myStringList"
   ]
  },
  {
   "cell_type": "code",
   "execution_count": 71,
   "id": "5f1eac80-2cb9-44c0-9245-1834de44d282",
   "metadata": {},
   "outputs": [
    {
     "data": {
      "text/plain": [
       "list"
      ]
     },
     "execution_count": 71,
     "metadata": {},
     "output_type": "execute_result"
    }
   ],
   "source": [
    "complexList= [1,2,3,4.5, \"Berkay\", 9]\n",
    "type(complexList)"
   ]
  },
  {
   "cell_type": "code",
   "execution_count": 73,
   "id": "508ca9fc-f5d4-4994-b10e-bdc553103bc8",
   "metadata": {},
   "outputs": [
    {
     "data": {
      "text/plain": [
       "int"
      ]
     },
     "execution_count": 73,
     "metadata": {},
     "output_type": "execute_result"
    }
   ],
   "source": [
    "result = complexList[0]\n",
    "type(result)"
   ]
  },
  {
   "cell_type": "code",
   "execution_count": 75,
   "id": "c91d070c-9204-4de2-8318-febe9774625b",
   "metadata": {},
   "outputs": [
    {
     "data": {
      "text/plain": [
       "str"
      ]
     },
     "execution_count": 75,
     "metadata": {},
     "output_type": "execute_result"
    }
   ],
   "source": [
    "result = complexList[4]\n",
    "type(result)"
   ]
  },
  {
   "cell_type": "code",
   "execution_count": 77,
   "id": "ae2b1bb1-a042-48c3-8c20-a049380e8053",
   "metadata": {},
   "outputs": [
    {
     "data": {
      "text/plain": [
       "float"
      ]
     },
     "execution_count": 77,
     "metadata": {},
     "output_type": "execute_result"
    }
   ],
   "source": [
    "result = complexList[3]\n",
    "type(result)"
   ]
  },
  {
   "cell_type": "code",
   "execution_count": 79,
   "id": "162a471b-d121-460a-85d4-21663339e31b",
   "metadata": {},
   "outputs": [],
   "source": [
    "# we can make a complex list and we can put list is the list\n",
    "nestedList = [1,2,3,4,5, \"Berkay\", 6 , [7,\"Korcum\"]]\n"
   ]
  },
  {
   "cell_type": "code",
   "execution_count": 81,
   "id": "793159b3-9e1d-4269-9829-2f72accd6326",
   "metadata": {},
   "outputs": [
    {
     "data": {
      "text/plain": [
       "1"
      ]
     },
     "execution_count": 81,
     "metadata": {},
     "output_type": "execute_result"
    }
   ],
   "source": [
    "nestedList[0]"
   ]
  },
  {
   "cell_type": "code",
   "execution_count": 85,
   "id": "09144fd5-5b78-4e29-9133-4674ed645286",
   "metadata": {},
   "outputs": [
    {
     "data": {
      "text/plain": [
       "list"
      ]
     },
     "execution_count": 85,
     "metadata": {},
     "output_type": "execute_result"
    }
   ],
   "source": [
    "type(nestedList[7])"
   ]
  },
  {
   "cell_type": "code",
   "execution_count": 89,
   "id": "3907e9b4-439e-4309-b713-2688b8a45dbd",
   "metadata": {},
   "outputs": [
    {
     "data": {
      "text/plain": [
       "'Korcum'"
      ]
     },
     "execution_count": 89,
     "metadata": {},
     "output_type": "execute_result"
    }
   ],
   "source": [
    "# Let's create a variable for taking \"Korcum\" element in nestedList\n",
    "\n",
    "x= nestedList[7][1]\n",
    "x"
   ]
  },
  {
   "cell_type": "code",
   "execution_count": null,
   "id": "8f898650-bb30-4f09-8721-20fc80d8efb9",
   "metadata": {},
   "outputs": [],
   "source": []
  }
 ],
 "metadata": {
  "kernelspec": {
   "display_name": "Python 3 (ipykernel)",
   "language": "python",
   "name": "python3"
  },
  "language_info": {
   "codemirror_mode": {
    "name": "ipython",
    "version": 3
   },
   "file_extension": ".py",
   "mimetype": "text/x-python",
   "name": "python",
   "nbconvert_exporter": "python",
   "pygments_lexer": "ipython3",
   "version": "3.11.7"
  }
 },
 "nbformat": 4,
 "nbformat_minor": 5
}
