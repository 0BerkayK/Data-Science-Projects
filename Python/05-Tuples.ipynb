{
 "cells": [
  {
   "cell_type": "code",
   "execution_count": 1,
   "id": "ef6cb892-4e8a-4e6d-88ff-20cdda9835ec",
   "metadata": {},
   "outputs": [],
   "source": [
    "# Tuples are immutable\n",
    "\n",
    "tuple1 = (1,2,\"Berkay\", 4.5, 5)"
   ]
  },
  {
   "cell_type": "code",
   "execution_count": 3,
   "id": "c170f9f2-89a4-4c90-a2fe-419f38b32249",
   "metadata": {},
   "outputs": [
    {
     "data": {
      "text/plain": [
       "(1, 2, 'Berkay', 4.5, 5)"
      ]
     },
     "execution_count": 3,
     "metadata": {},
     "output_type": "execute_result"
    }
   ],
   "source": [
    "tuple1"
   ]
  },
  {
   "cell_type": "code",
   "execution_count": 11,
   "id": "9275135c-66b4-48bb-ad06-65776ee5b422",
   "metadata": {},
   "outputs": [
    {
     "data": {
      "text/plain": [
       "1"
      ]
     },
     "execution_count": 11,
     "metadata": {},
     "output_type": "execute_result"
    }
   ],
   "source": [
    "tuple1[0]"
   ]
  },
  {
   "cell_type": "code",
   "execution_count": 13,
   "id": "faae340c-8860-4d57-b8e9-a93acf7e327e",
   "metadata": {},
   "outputs": [
    {
     "data": {
      "text/plain": [
       "'Berkay'"
      ]
     },
     "execution_count": 13,
     "metadata": {},
     "output_type": "execute_result"
    }
   ],
   "source": [
    "tuple1[2]"
   ]
  },
  {
   "cell_type": "code",
   "execution_count": 17,
   "id": "aca4a051-ce28-42ed-9845-0820f5cf85f3",
   "metadata": {},
   "outputs": [
    {
     "ename": "TypeError",
     "evalue": "'tuple' object does not support item assignment",
     "output_type": "error",
     "traceback": [
      "\u001b[1;31m---------------------------------------------------------------------------\u001b[0m",
      "\u001b[1;31mTypeError\u001b[0m                                 Traceback (most recent call last)",
      "Cell \u001b[1;32mIn[17], line 1\u001b[0m\n\u001b[1;32m----> 1\u001b[0m tuple1[\u001b[38;5;241m2\u001b[39m]\u001b[38;5;241m=\u001b[39m \u001b[38;5;124m\"\u001b[39m\u001b[38;5;124mKorcum\u001b[39m\u001b[38;5;124m\"\u001b[39m\n",
      "\u001b[1;31mTypeError\u001b[0m: 'tuple' object does not support item assignment"
     ]
    }
   ],
   "source": [
    "tuple1[2]= \"Korcum\" # It will not work "
   ]
  },
  {
   "cell_type": "code",
   "execution_count": 21,
   "id": "f5cf96e1-01b7-486b-acda-75df13bd6b12",
   "metadata": {},
   "outputs": [
    {
     "data": {
      "text/plain": [
       "1"
      ]
     },
     "execution_count": 21,
     "metadata": {},
     "output_type": "execute_result"
    }
   ],
   "source": [
    "tuple1.count(1) "
   ]
  },
  {
   "cell_type": "code",
   "execution_count": 25,
   "id": "ca99f350-73a4-4ab2-8b18-bf3e46539d37",
   "metadata": {},
   "outputs": [
    {
     "data": {
      "text/plain": [
       "3"
      ]
     },
     "execution_count": 25,
     "metadata": {},
     "output_type": "execute_result"
    }
   ],
   "source": [
    "tuple1.index(4.5) # for reaching out to index of an element"
   ]
  },
  {
   "cell_type": "markdown",
   "id": "02f4a0af-ea8a-4bf4-a4e2-b97ed5be8471",
   "metadata": {},
   "source": [
    "## Bool"
   ]
  },
  {
   "cell_type": "code",
   "execution_count": 29,
   "id": "d8040196-1880-480a-bcae-d643c849220a",
   "metadata": {},
   "outputs": [
    {
     "data": {
      "text/plain": [
       "False"
      ]
     },
     "execution_count": 29,
     "metadata": {},
     "output_type": "execute_result"
    }
   ],
   "source": [
    "10< 5"
   ]
  },
  {
   "cell_type": "code",
   "execution_count": 31,
   "id": "f7bc2614-67de-4579-9704-1b7ffdaa420c",
   "metadata": {},
   "outputs": [
    {
     "data": {
      "text/plain": [
       "True"
      ]
     },
     "execution_count": 31,
     "metadata": {},
     "output_type": "execute_result"
    }
   ],
   "source": [
    "5<10"
   ]
  },
  {
   "cell_type": "code",
   "execution_count": 35,
   "id": "39f1d31a-cd51-4ad7-951f-0de2ef39db74",
   "metadata": {},
   "outputs": [
    {
     "data": {
      "text/plain": [
       "4"
      ]
     },
     "execution_count": 35,
     "metadata": {},
     "output_type": "execute_result"
    }
   ],
   "source": [
    "myList= [1000,20000,11222,454330]\n",
    "len(myList) # Length of list"
   ]
  },
  {
   "cell_type": "code",
   "execution_count": 37,
   "id": "3428a7ef-31f6-4547-8c14-f516330997a7",
   "metadata": {},
   "outputs": [
    {
     "data": {
      "text/plain": [
       "486552"
      ]
     },
     "execution_count": 37,
     "metadata": {},
     "output_type": "execute_result"
    }
   ],
   "source": [
    "sum(myList) # Sum of all element of list"
   ]
  },
  {
   "cell_type": "code",
   "execution_count": 41,
   "id": "24b26861-b8bf-4e25-a24b-f23ddb623313",
   "metadata": {},
   "outputs": [],
   "source": [
    "# Let's obtain the mean of list\n",
    "\n",
    "mean = sum(myList)/len(myList)"
   ]
  },
  {
   "cell_type": "code",
   "execution_count": 43,
   "id": "a541d31e-9ed3-4a8a-868a-f21d99573e1b",
   "metadata": {},
   "outputs": [
    {
     "data": {
      "text/plain": [
       "121638.0"
      ]
     },
     "execution_count": 43,
     "metadata": {},
     "output_type": "execute_result"
    }
   ],
   "source": [
    "mean"
   ]
  },
  {
   "cell_type": "code",
   "execution_count": 45,
   "id": "f3dbcd9e-f8cd-4001-bbee-e81789849056",
   "metadata": {},
   "outputs": [
    {
     "data": {
      "text/plain": [
       "False"
      ]
     },
     "execution_count": 45,
     "metadata": {},
     "output_type": "execute_result"
    }
   ],
   "source": [
    "myList[2] > mean"
   ]
  },
  {
   "cell_type": "code",
   "execution_count": 51,
   "id": "2881a651-86c0-4608-b4fa-67913662d680",
   "metadata": {},
   "outputs": [
    {
     "data": {
      "text/plain": [
       "True"
      ]
     },
     "execution_count": 51,
     "metadata": {},
     "output_type": "execute_result"
    }
   ],
   "source": [
    "myList[0] < mean"
   ]
  },
  {
   "cell_type": "code",
   "execution_count": null,
   "id": "4063d22c-94a8-4eb8-a6ae-91374560856b",
   "metadata": {},
   "outputs": [],
   "source": []
  }
 ],
 "metadata": {
  "kernelspec": {
   "display_name": "Python 3 (ipykernel)",
   "language": "python",
   "name": "python3"
  },
  "language_info": {
   "codemirror_mode": {
    "name": "ipython",
    "version": 3
   },
   "file_extension": ".py",
   "mimetype": "text/x-python",
   "name": "python",
   "nbconvert_exporter": "python",
   "pygments_lexer": "ipython3",
   "version": "3.11.7"
  }
 },
 "nbformat": 4,
 "nbformat_minor": 5
}
