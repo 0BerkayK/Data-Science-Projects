{
 "cells": [
  {
   "cell_type": "markdown",
   "id": "1d76282e-5c2b-484b-ab70-779b8b94bc28",
   "metadata": {},
   "source": [
    "## Variables"
   ]
  },
  {
   "cell_type": "markdown",
   "id": "418963f5-7273-44d4-86a8-607e40025b73",
   "metadata": {},
   "source": [
    "Integer"
   ]
  },
  {
   "cell_type": "code",
   "execution_count": 3,
   "id": "492a1d1b-d628-440d-a83a-60f90bf446fe",
   "metadata": {},
   "outputs": [
    {
     "data": {
      "text/plain": [
       "int"
      ]
     },
     "execution_count": 3,
     "metadata": {},
     "output_type": "execute_result"
    }
   ],
   "source": [
    "myVariable = 10\n",
    "\n",
    "type(myVariable)"
   ]
  },
  {
   "cell_type": "markdown",
   "id": "afa3070f-c24d-4882-880e-135f118e9a50",
   "metadata": {},
   "source": [
    "## Mathematical Operations"
   ]
  },
  {
   "cell_type": "code",
   "execution_count": 7,
   "id": "248f73ba-d245-4866-a26e-3f54581fb205",
   "metadata": {},
   "outputs": [],
   "source": [
    "x = 3\n",
    "y = 5 "
   ]
  },
  {
   "cell_type": "code",
   "execution_count": 9,
   "id": "f0008c05-c00d-4011-89cc-e59c0657ba7e",
   "metadata": {},
   "outputs": [
    {
     "data": {
      "text/plain": [
       "150"
      ]
     },
     "execution_count": 9,
     "metadata": {},
     "output_type": "execute_result"
    }
   ],
   "source": [
    "x * y * 10"
   ]
  },
  {
   "cell_type": "code",
   "execution_count": 11,
   "id": "4fd05faf-8746-4f37-a720-8a6160cf5993",
   "metadata": {},
   "outputs": [
    {
     "data": {
      "text/plain": [
       "81"
      ]
     },
     "execution_count": 11,
     "metadata": {},
     "output_type": "execute_result"
    }
   ],
   "source": [
    "x * x * x * x"
   ]
  },
  {
   "cell_type": "code",
   "execution_count": 17,
   "id": "11bcda54-d801-459b-9de2-02fff6722351",
   "metadata": {},
   "outputs": [
    {
     "data": {
      "text/plain": [
       "81"
      ]
     },
     "execution_count": 17,
     "metadata": {},
     "output_type": "execute_result"
    }
   ],
   "source": [
    "## Exponentiation\n",
    "x**4"
   ]
  },
  {
   "cell_type": "code",
   "execution_count": 19,
   "id": "32b08a7d-7649-4320-b0f8-4dd33fad8f46",
   "metadata": {},
   "outputs": [
    {
     "data": {
      "text/plain": [
       "1"
      ]
     },
     "execution_count": 19,
     "metadata": {},
     "output_type": "execute_result"
    }
   ],
   "source": [
    "## Remainder\n",
    "\n",
    "11 % 2"
   ]
  },
  {
   "cell_type": "code",
   "execution_count": 35,
   "id": "bebd2be8-9168-4f6f-a222-8729a71c2e3f",
   "metadata": {},
   "outputs": [
    {
     "name": "stdin",
     "output_type": "stream",
     "text": [
      "Enter your age : 40\n"
     ]
    }
   ],
   "source": [
    "userAge = input(\"Enter your age :\")"
   ]
  },
  {
   "cell_type": "code",
   "execution_count": 29,
   "id": "7bd263a8-44e0-4f88-b049-8416960a4651",
   "metadata": {},
   "outputs": [
    {
     "data": {
      "text/plain": [
       "'40'"
      ]
     },
     "execution_count": 29,
     "metadata": {},
     "output_type": "execute_result"
    }
   ],
   "source": [
    "userAge"
   ]
  },
  {
   "cell_type": "markdown",
   "id": "65fc4e8d-d6c7-4b1a-b6ff-8849f75cd73b",
   "metadata": {},
   "source": [
    "## String"
   ]
  },
  {
   "cell_type": "code",
   "execution_count": 38,
   "id": "4eaacb15-36e0-4865-8926-b1b4dcc23d70",
   "metadata": {},
   "outputs": [
    {
     "data": {
      "text/plain": [
       "'Hello World'"
      ]
     },
     "execution_count": 38,
     "metadata": {},
     "output_type": "execute_result"
    }
   ],
   "source": [
    "\"Hello World\""
   ]
  },
  {
   "cell_type": "code",
   "execution_count": 42,
   "id": "5174d907-96d9-4d0f-b919-0aaf12f10a3a",
   "metadata": {},
   "outputs": [],
   "source": [
    "a = 5"
   ]
  },
  {
   "cell_type": "code",
   "execution_count": 54,
   "id": "4ac54452-fd47-4061-8d2d-c74823ca0e1c",
   "metadata": {},
   "outputs": [],
   "source": [
    "y = \"New String\""
   ]
  },
  {
   "cell_type": "code",
   "execution_count": 56,
   "id": "874a740d-e330-4f07-87c7-8808a307d235",
   "metadata": {},
   "outputs": [
    {
     "data": {
      "text/plain": [
       "'New string'"
      ]
     },
     "execution_count": 56,
     "metadata": {},
     "output_type": "execute_result"
    }
   ],
   "source": [
    "y.capitalize()"
   ]
  },
  {
   "cell_type": "code",
   "execution_count": 76,
   "id": "5da2b884-6a74-4b1c-9f4b-f53ef99558e3",
   "metadata": {},
   "outputs": [
    {
     "data": {
      "text/plain": [
       "['New', 'String']"
      ]
     },
     "execution_count": 76,
     "metadata": {},
     "output_type": "execute_result"
    }
   ],
   "source": [
    "y.split()"
   ]
  },
  {
   "cell_type": "code",
   "execution_count": 78,
   "id": "796c6ff0-83e2-4946-a30b-933b65d01d1a",
   "metadata": {},
   "outputs": [],
   "source": [
    "myIntegerInput = int(userAge)"
   ]
  },
  {
   "cell_type": "code",
   "execution_count": 80,
   "id": "349db7dd-8a74-4c08-bdf6-d87223b7ef99",
   "metadata": {},
   "outputs": [
    {
     "name": "stdin",
     "output_type": "stream",
     "text": [
      "Enter your age : 40\n"
     ]
    }
   ],
   "source": [
    "userAge = input(\"Enter your age :\")"
   ]
  },
  {
   "cell_type": "code",
   "execution_count": 82,
   "id": "078e8b9f-882d-47cd-929e-53b11c10bdbf",
   "metadata": {},
   "outputs": [
    {
     "data": {
      "text/plain": [
       "str"
      ]
     },
     "execution_count": 82,
     "metadata": {},
     "output_type": "execute_result"
    }
   ],
   "source": [
    "type(userAge)"
   ]
  },
  {
   "cell_type": "code",
   "execution_count": 88,
   "id": "1ed1c2ab-2e7e-4529-bfe5-3f6a2c57e4af",
   "metadata": {},
   "outputs": [
    {
     "data": {
      "text/plain": [
       "10"
      ]
     },
     "execution_count": 88,
     "metadata": {},
     "output_type": "execute_result"
    }
   ],
   "source": [
    "## Length of String\n",
    "len(y)"
   ]
  },
  {
   "cell_type": "code",
   "execution_count": 90,
   "id": "62b5ec6a-7e7e-4d54-9c44-8a8ae0abcfdf",
   "metadata": {},
   "outputs": [],
   "source": [
    "myNameString = \"Berkay Korcum\""
   ]
  },
  {
   "cell_type": "code",
   "execution_count": 92,
   "id": "90358ef3-cbb0-495d-89d4-f7044b3d1465",
   "metadata": {},
   "outputs": [
    {
     "data": {
      "text/plain": [
       "'Berkay Korcum'"
      ]
     },
     "execution_count": 92,
     "metadata": {},
     "output_type": "execute_result"
    }
   ],
   "source": [
    "myNameString"
   ]
  },
  {
   "cell_type": "markdown",
   "id": "a360e85e-8cb4-4022-b94b-c4831dc8ceef",
   "metadata": {},
   "source": [
    "## Slicing"
   ]
  },
  {
   "cell_type": "code",
   "execution_count": null,
   "id": "526c781f-cc31-477b-90be-259881ac0baf",
   "metadata": {},
   "outputs": [],
   "source": []
  }
 ],
 "metadata": {
  "kernelspec": {
   "display_name": "Python 3 (ipykernel)",
   "language": "python",
   "name": "python3"
  },
  "language_info": {
   "codemirror_mode": {
    "name": "ipython",
    "version": 3
   },
   "file_extension": ".py",
   "mimetype": "text/x-python",
   "name": "python",
   "nbconvert_exporter": "python",
   "pygments_lexer": "ipython3",
   "version": "3.11.7"
  }
 },
 "nbformat": 4,
 "nbformat_minor": 5
}
