{
 "cells": [
  {
   "cell_type": "markdown",
   "id": "00af7507-929e-4d55-8dac-074a101725e1",
   "metadata": {},
   "source": [
    "## Random"
   ]
  },
  {
   "cell_type": "code",
   "execution_count": 2,
   "id": "fe8e7cfe-949f-4d36-a7f0-e563ca4d77bf",
   "metadata": {},
   "outputs": [],
   "source": [
    "from random import randint"
   ]
  },
  {
   "cell_type": "code",
   "execution_count": 19,
   "id": "a505a586-f412-4484-89dc-9442639185d1",
   "metadata": {},
   "outputs": [
    {
     "data": {
      "text/plain": [
       "[0, 7, 14, 21, 28, 35, 42, 49, 56, 63, 70, 77, 84, 91, 98]"
      ]
     },
     "execution_count": 19,
     "metadata": {},
     "output_type": "execute_result"
    }
   ],
   "source": [
    "newList = list(range(0,100,7))\n",
    "newList"
   ]
  },
  {
   "cell_type": "code",
   "execution_count": 27,
   "id": "0c78b4f5-e7b1-467f-b5a2-5647671bd527",
   "metadata": {},
   "outputs": [
    {
     "data": {
      "text/plain": [
       "7"
      ]
     },
     "execution_count": 27,
     "metadata": {},
     "output_type": "execute_result"
    }
   ],
   "source": [
    "newList[randint(0,9)]"
   ]
  },
  {
   "cell_type": "markdown",
   "id": "2144c792-673a-429e-921d-6a20e8b0e0f8",
   "metadata": {},
   "source": [
    "## Shuffle"
   ]
  },
  {
   "cell_type": "code",
   "execution_count": 30,
   "id": "396730ef-690a-4644-b6d9-514830308db7",
   "metadata": {},
   "outputs": [],
   "source": [
    "from random import shuffle"
   ]
  },
  {
   "cell_type": "code",
   "execution_count": 32,
   "id": "c58b65ab-e4d5-4c4d-82e9-b8de5c761902",
   "metadata": {},
   "outputs": [
    {
     "data": {
      "text/plain": [
       "[91, 0, 56, 49, 7, 98, 28, 77, 35, 21, 70, 14, 84, 42, 63]"
      ]
     },
     "execution_count": 32,
     "metadata": {},
     "output_type": "execute_result"
    }
   ],
   "source": [
    "shuffle(newList)\n",
    "newList"
   ]
  },
  {
   "cell_type": "markdown",
   "id": "66be9292-589d-44ce-87f6-a5a502c00269",
   "metadata": {},
   "source": [
    "## Zip"
   ]
  },
  {
   "cell_type": "code",
   "execution_count": 40,
   "id": "c4230946-daa1-480c-b43e-1b4942bcabd6",
   "metadata": {},
   "outputs": [
    {
     "data": {
      "text/plain": [
       "set"
      ]
     },
     "execution_count": 40,
     "metadata": {},
     "output_type": "execute_result"
    }
   ],
   "source": [
    "tuple1 = (1,2,42,4)\n",
    "\n",
    "x = set(tuple1)\n",
    "\n",
    "type(x)"
   ]
  },
  {
   "cell_type": "code",
   "execution_count": null,
   "id": "a00c808d-f2b2-476b-88f4-a8c09895cf3b",
   "metadata": {},
   "outputs": [],
   "source": []
  }
 ],
 "metadata": {
  "kernelspec": {
   "display_name": "Python 3 (ipykernel)",
   "language": "python",
   "name": "python3"
  },
  "language_info": {
   "codemirror_mode": {
    "name": "ipython",
    "version": 3
   },
   "file_extension": ".py",
   "mimetype": "text/x-python",
   "name": "python",
   "nbconvert_exporter": "python",
   "pygments_lexer": "ipython3",
   "version": "3.11.7"
  }
 },
 "nbformat": 4,
 "nbformat_minor": 5
}
