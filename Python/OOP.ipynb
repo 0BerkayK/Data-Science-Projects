{
 "cells": [
  {
   "cell_type": "markdown",
   "id": "7a886498-c18a-49bc-b47e-56c3d29ed4e7",
   "metadata": {},
   "source": [
    "## instance & attribute"
   ]
  },
  {
   "cell_type": "code",
   "execution_count": 4,
   "id": "c145b7ab-31c3-49ab-a3f1-ad41dfb042b5",
   "metadata": {},
   "outputs": [],
   "source": [
    "class SuperHero():\n",
    "    specialForce = \"Invisibility\"\n",
    "    def __init__(self,name,age,job):\n",
    "        self.name= name\n",
    "        self.age = age\n",
    "        self.job= job\n",
    "\n",
    "    def exampleMethod(self):\n",
    "        print(\"I'm Superhero\")"
   ]
  },
  {
   "cell_type": "code",
   "execution_count": 5,
   "id": "4b696d7d-c73f-446c-8f47-9df6291ff016",
   "metadata": {},
   "outputs": [],
   "source": [
    "superman = SuperHero(\"Superman\", 30, \"Journalist\")"
   ]
  },
  {
   "cell_type": "code",
   "execution_count": 6,
   "id": "e17ed70d-8500-4021-a6a5-3380bf7e57b4",
   "metadata": {},
   "outputs": [
    {
     "data": {
      "text/plain": [
       "30"
      ]
     },
     "execution_count": 6,
     "metadata": {},
     "output_type": "execute_result"
    }
   ],
   "source": [
    "superman.age"
   ]
  },
  {
   "cell_type": "code",
   "execution_count": 7,
   "id": "94bc3b28-30e8-445b-9d55-1a1c6cd6b38a",
   "metadata": {},
   "outputs": [],
   "source": [
    "superman.age = 40"
   ]
  },
  {
   "cell_type": "code",
   "execution_count": 8,
   "id": "093fd427-72fe-4e24-8c1c-539986e6833a",
   "metadata": {},
   "outputs": [
    {
     "data": {
      "text/plain": [
       "40"
      ]
     },
     "execution_count": 8,
     "metadata": {},
     "output_type": "execute_result"
    }
   ],
   "source": [
    "superman.age"
   ]
  },
  {
   "cell_type": "code",
   "execution_count": 10,
   "id": "f37beacf-f7f4-4ed2-9264-39926c93a966",
   "metadata": {},
   "outputs": [
    {
     "name": "stdout",
     "output_type": "stream",
     "text": [
      "I'm Superhero\n"
     ]
    }
   ],
   "source": [
    "superman.exampleMethod()"
   ]
  },
  {
   "cell_type": "code",
   "execution_count": 12,
   "id": "ec1d8b91-40e1-4501-8b41-ad50d0937744",
   "metadata": {},
   "outputs": [],
   "source": [
    "class Person():\n",
    "    def __init__(self,name,surname,age):\n",
    "        self.name=name\n",
    "        self.surname=surname\n",
    "        self.age=age"
   ]
  },
  {
   "cell_type": "code",
   "execution_count": 14,
   "id": "0f7f1c35-e450-42ee-b82c-c1c6bbc00db4",
   "metadata": {},
   "outputs": [],
   "source": [
    "person1 = Person(\"Berkay\",\"Korcum\", 26) "
   ]
  },
  {
   "cell_type": "code",
   "execution_count": 16,
   "id": "055c87ca-1e4b-4cb7-82a3-848c95f37c64",
   "metadata": {},
   "outputs": [
    {
     "data": {
      "text/plain": [
       "'Berkay'"
      ]
     },
     "execution_count": 16,
     "metadata": {},
     "output_type": "execute_result"
    }
   ],
   "source": [
    "person1.name"
   ]
  },
  {
   "cell_type": "code",
   "execution_count": 20,
   "id": "f043e447-5e1c-4280-8247-85abd6092d74",
   "metadata": {},
   "outputs": [
    {
     "data": {
      "text/plain": [
       "['__class__',\n",
       " '__delattr__',\n",
       " '__dict__',\n",
       " '__dir__',\n",
       " '__doc__',\n",
       " '__eq__',\n",
       " '__format__',\n",
       " '__ge__',\n",
       " '__getattribute__',\n",
       " '__getstate__',\n",
       " '__gt__',\n",
       " '__hash__',\n",
       " '__init__',\n",
       " '__init_subclass__',\n",
       " '__le__',\n",
       " '__lt__',\n",
       " '__module__',\n",
       " '__ne__',\n",
       " '__new__',\n",
       " '__reduce__',\n",
       " '__reduce_ex__',\n",
       " '__repr__',\n",
       " '__setattr__',\n",
       " '__sizeof__',\n",
       " '__str__',\n",
       " '__subclasshook__',\n",
       " '__weakref__']"
      ]
     },
     "execution_count": 20,
     "metadata": {},
     "output_type": "execute_result"
    }
   ],
   "source": [
    "dir(Person)"
   ]
  },
  {
   "cell_type": "code",
   "execution_count": null,
   "id": "02614015-1a1b-475c-8e74-9472e703255f",
   "metadata": {},
   "outputs": [],
   "source": []
  }
 ],
 "metadata": {
  "kernelspec": {
   "display_name": "Python 3 (ipykernel)",
   "language": "python",
   "name": "python3"
  },
  "language_info": {
   "codemirror_mode": {
    "name": "ipython",
    "version": 3
   },
   "file_extension": ".py",
   "mimetype": "text/x-python",
   "name": "python",
   "nbconvert_exporter": "python",
   "pygments_lexer": "ipython3",
   "version": "3.11.7"
  }
 },
 "nbformat": 4,
 "nbformat_minor": 5
}
