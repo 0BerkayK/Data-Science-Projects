{
 "cells": [
  {
   "cell_type": "code",
   "execution_count": 1,
   "id": "9f5dc11e-9e0a-4df7-a15c-9afe066dd701",
   "metadata": {},
   "outputs": [],
   "source": [
    "# Dictionary does not work with index. It works as key-value pairing concept"
   ]
  },
  {
   "cell_type": "code",
   "execution_count": 3,
   "id": "7c53571c-37be-4cd8-b996-32f64d617f75",
   "metadata": {},
   "outputs": [],
   "source": [
    "meals = [\"Apple\", \"Orange\", \"Banana\"]\n",
    "calories = [50,70,82.5]"
   ]
  },
  {
   "cell_type": "code",
   "execution_count": 5,
   "id": "2c1dc5f4-ffc9-4668-8ef3-09ca085fcb7f",
   "metadata": {},
   "outputs": [
    {
     "data": {
      "text/plain": [
       "'Apple'"
      ]
     },
     "execution_count": 5,
     "metadata": {},
     "output_type": "execute_result"
    }
   ],
   "source": [
    "meals[0]"
   ]
  },
  {
   "cell_type": "code",
   "execution_count": 7,
   "id": "23fda2a3-0d6b-4dc6-834b-aa240887e3ad",
   "metadata": {},
   "outputs": [
    {
     "data": {
      "text/plain": [
       "50"
      ]
     },
     "execution_count": 7,
     "metadata": {},
     "output_type": "execute_result"
    }
   ],
   "source": [
    "calories[0]"
   ]
  },
  {
   "cell_type": "code",
   "execution_count": 9,
   "id": "22f6b687-0def-41ad-bb9e-2f526194e8a1",
   "metadata": {},
   "outputs": [],
   "source": [
    "# If we have too many meal we can use dictionary"
   ]
  },
  {
   "cell_type": "code",
   "execution_count": 11,
   "id": "024cf944-5562-4310-85ef-e8c97f5e87bd",
   "metadata": {},
   "outputs": [],
   "source": [
    "myDictionary = {\"Apple\" : 50, \"Orange\" : 70, \"Banana\": 82.5}"
   ]
  },
  {
   "cell_type": "code",
   "execution_count": 13,
   "id": "5332e78a-b585-4d71-92fe-387306325bd9",
   "metadata": {},
   "outputs": [
    {
     "data": {
      "text/plain": [
       "dict"
      ]
     },
     "execution_count": 13,
     "metadata": {},
     "output_type": "execute_result"
    }
   ],
   "source": [
    "type(myDictionary)"
   ]
  },
  {
   "cell_type": "code",
   "execution_count": 18,
   "id": "fc3daac2-6d08-47fd-af97-1cd0917a733d",
   "metadata": {},
   "outputs": [
    {
     "data": {
      "text/plain": [
       "50"
      ]
     },
     "execution_count": 18,
     "metadata": {},
     "output_type": "execute_result"
    }
   ],
   "source": [
    "myDictionary[\"Apple\"]"
   ]
  },
  {
   "cell_type": "code",
   "execution_count": 22,
   "id": "414a8b1b-b4d0-44ef-8b67-3707713e8b73",
   "metadata": {},
   "outputs": [
    {
     "data": {
      "text/plain": [
       "100"
      ]
     },
     "execution_count": 22,
     "metadata": {},
     "output_type": "execute_result"
    }
   ],
   "source": [
    "myDictionary[\"Apple\"] = 100  # We can change the calories\n",
    "myDictionary[\"Apple\"]"
   ]
  },
  {
   "cell_type": "code",
   "execution_count": 26,
   "id": "e63eb7c6-5109-4ba1-afc6-e15017bc427a",
   "metadata": {},
   "outputs": [
    {
     "data": {
      "text/plain": [
       "dict_keys(['Apple', 'Orange', 'Banana'])"
      ]
     },
     "execution_count": 26,
     "metadata": {},
     "output_type": "execute_result"
    }
   ],
   "source": [
    "myDictionary.keys() # It brings all key"
   ]
  },
  {
   "cell_type": "code",
   "execution_count": 30,
   "id": "e2ff9892-cf8c-4912-aac3-d0909f70a54a",
   "metadata": {},
   "outputs": [
    {
     "data": {
      "text/plain": [
       "dict_values([100, 70, 82.5])"
      ]
     },
     "execution_count": 30,
     "metadata": {},
     "output_type": "execute_result"
    }
   ],
   "source": [
    "myDictionary.values() # It brings all values"
   ]
  },
  {
   "cell_type": "code",
   "execution_count": null,
   "id": "983c276c-b893-4085-81b0-cf10494df1df",
   "metadata": {},
   "outputs": [],
   "source": []
  }
 ],
 "metadata": {
  "kernelspec": {
   "display_name": "Python 3 (ipykernel)",
   "language": "python",
   "name": "python3"
  },
  "language_info": {
   "codemirror_mode": {
    "name": "ipython",
    "version": 3
   },
   "file_extension": ".py",
   "mimetype": "text/x-python",
   "name": "python",
   "nbconvert_exporter": "python",
   "pygments_lexer": "ipython3",
   "version": "3.11.7"
  }
 },
 "nbformat": 4,
 "nbformat_minor": 5
}
