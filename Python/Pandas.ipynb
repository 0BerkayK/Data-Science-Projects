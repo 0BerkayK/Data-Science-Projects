{
 "cells": [
  {
   "cell_type": "code",
   "execution_count": 1,
   "id": "4a66ab12-177b-4ce7-884b-fe78afe6633e",
   "metadata": {},
   "outputs": [],
   "source": [
    "import numpy as np\n",
    "import pandas as pd"
   ]
  },
  {
   "cell_type": "markdown",
   "id": "684b3a17-65ff-4a14-93c6-e302253d7ba4",
   "metadata": {},
   "source": [
    "## Series"
   ]
  },
  {
   "cell_type": "code",
   "execution_count": 8,
   "id": "67712081-e6bd-48ff-9ff7-1f533fba6d6f",
   "metadata": {},
   "outputs": [],
   "source": [
    "myDictionary = {\"Berkay\":27 , \"Michelle\":30,\"Steve\":40}"
   ]
  },
  {
   "cell_type": "code",
   "execution_count": 10,
   "id": "55a32e73-8b97-45dd-9500-74886a155eef",
   "metadata": {},
   "outputs": [
    {
     "data": {
      "text/plain": [
       "Berkay      27\n",
       "Michelle    30\n",
       "Steve       40\n",
       "dtype: int64"
      ]
     },
     "execution_count": 10,
     "metadata": {},
     "output_type": "execute_result"
    }
   ],
   "source": [
    "pd.Series(myDictionary)"
   ]
  },
  {
   "cell_type": "code",
   "execution_count": 12,
   "id": "7cc1d3f5-76f0-4c00-8dde-e91f0c12d4a8",
   "metadata": {},
   "outputs": [],
   "source": [
    "myAges = [27,30,40]\n",
    "myNames = [\"Berkay\",\"Michelle\",\"Steve\"]"
   ]
  },
  {
   "cell_type": "code",
   "execution_count": 14,
   "id": "e65b1216-6285-4897-9ac2-5dd0e09896b7",
   "metadata": {},
   "outputs": [
    {
     "data": {
      "text/plain": [
       "0    27\n",
       "1    30\n",
       "2    40\n",
       "dtype: int64"
      ]
     },
     "execution_count": 14,
     "metadata": {},
     "output_type": "execute_result"
    }
   ],
   "source": [
    "pd.Series(myAges)"
   ]
  },
  {
   "cell_type": "code",
   "execution_count": 16,
   "id": "087f3d25-e559-47b4-813a-99bb677d27e4",
   "metadata": {},
   "outputs": [
    {
     "data": {
      "text/plain": [
       "Berkay      27\n",
       "Michelle    30\n",
       "Steve       40\n",
       "dtype: int64"
      ]
     },
     "execution_count": 16,
     "metadata": {},
     "output_type": "execute_result"
    }
   ],
   "source": [
    "pd.Series(myAges,myNames)"
   ]
  },
  {
   "cell_type": "code",
   "execution_count": 18,
   "id": "e11144a7-ac3b-4f0c-b0b7-0c099dcb748d",
   "metadata": {},
   "outputs": [
    {
     "data": {
      "text/plain": [
       "Berkay      27\n",
       "Michelle    30\n",
       "Steve       40\n",
       "dtype: int64"
      ]
     },
     "execution_count": 18,
     "metadata": {},
     "output_type": "execute_result"
    }
   ],
   "source": [
    "pd.Series(data=myAges, index=myNames)"
   ]
  },
  {
   "cell_type": "code",
   "execution_count": 22,
   "id": "7458dcfb-c3b9-475c-ae54-59939909504d",
   "metadata": {},
   "outputs": [
    {
     "data": {
      "text/plain": [
       "Berkay      27\n",
       "Michelle    30\n",
       "Steve       40\n",
       "dtype: int32"
      ]
     },
     "execution_count": 22,
     "metadata": {},
     "output_type": "execute_result"
    }
   ],
   "source": [
    "numpyArr = np.array([27,30,40])\n",
    "pd.Series(numpyArr,myNames)"
   ]
  },
  {
   "cell_type": "code",
   "execution_count": 24,
   "id": "43163afd-ecbe-496e-9989-a8109f3ee58d",
   "metadata": {},
   "outputs": [
    {
     "data": {
      "text/plain": [
       "0    Berkay\n",
       "1     Bernt\n",
       "2      Jude\n",
       "dtype: object"
      ]
     },
     "execution_count": 24,
     "metadata": {},
     "output_type": "execute_result"
    }
   ],
   "source": [
    "pd.Series([\"Berkay\",\"Bernt\",\"Jude\"])"
   ]
  },
  {
   "cell_type": "code",
   "execution_count": 30,
   "id": "9cedf583-5dac-4626-b9b5-618399113bc5",
   "metadata": {},
   "outputs": [],
   "source": [
    "competitionResult1 = pd.Series([10,50,70],[\"Berkay\",\"Bernt\",\"Jude\"])"
   ]
  },
  {
   "cell_type": "code",
   "execution_count": 32,
   "id": "3c000f01-8cd2-41e3-a118-c86b7bc985d6",
   "metadata": {},
   "outputs": [
    {
     "data": {
      "text/plain": [
       "Berkay    10\n",
       "Bernt     50\n",
       "Jude      70\n",
       "dtype: int64"
      ]
     },
     "execution_count": 32,
     "metadata": {},
     "output_type": "execute_result"
    }
   ],
   "source": [
    "competitionResult1"
   ]
  },
  {
   "cell_type": "code",
   "execution_count": 34,
   "id": "81488f6d-d0cf-4460-b6fe-10f58acced1d",
   "metadata": {},
   "outputs": [
    {
     "data": {
      "text/plain": [
       "Berkay    30\n",
       "Bernt     60\n",
       "Jude      10\n",
       "dtype: int64"
      ]
     },
     "execution_count": 34,
     "metadata": {},
     "output_type": "execute_result"
    }
   ],
   "source": [
    "competitionResult2 = pd.Series([30,60,10],[\"Berkay\",\"Bernt\",\"Jude\"])\n",
    "competitionResult2"
   ]
  },
  {
   "cell_type": "code",
   "execution_count": 36,
   "id": "5525b2e0-b93a-46b5-a61b-5032343e69fa",
   "metadata": {},
   "outputs": [
    {
     "data": {
      "text/plain": [
       "30"
      ]
     },
     "execution_count": 36,
     "metadata": {},
     "output_type": "execute_result"
    }
   ],
   "source": [
    "competitionResult2[\"Berkay\"]"
   ]
  },
  {
   "cell_type": "code",
   "execution_count": 38,
   "id": "526f0e45-ecf2-4e57-8704-ea72675ff733",
   "metadata": {},
   "outputs": [
    {
     "data": {
      "text/plain": [
       "Berkay     40\n",
       "Bernt     110\n",
       "Jude       80\n",
       "dtype: int64"
      ]
     },
     "execution_count": 38,
     "metadata": {},
     "output_type": "execute_result"
    }
   ],
   "source": [
    "lastScore = competitionResult1 + competitionResult2\n",
    "lastScore"
   ]
  },
  {
   "cell_type": "code",
   "execution_count": null,
   "id": "c5aaca4e-bf29-40c3-af0e-3376a93974c1",
   "metadata": {},
   "outputs": [],
   "source": []
  }
 ],
 "metadata": {
  "kernelspec": {
   "display_name": "Python 3 (ipykernel)",
   "language": "python",
   "name": "python3"
  },
  "language_info": {
   "codemirror_mode": {
    "name": "ipython",
    "version": 3
   },
   "file_extension": ".py",
   "mimetype": "text/x-python",
   "name": "python",
   "nbconvert_exporter": "python",
   "pygments_lexer": "ipython3",
   "version": "3.11.7"
  }
 },
 "nbformat": 4,
 "nbformat_minor": 5
}
