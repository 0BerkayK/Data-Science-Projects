{
 "cells": [
  {
   "cell_type": "code",
   "execution_count": 7,
   "id": "a7f8c483-39e9-43b6-9131-25e455769393",
   "metadata": {},
   "outputs": [],
   "source": [
    "import numpy as np"
   ]
  },
  {
   "cell_type": "markdown",
   "id": "874382ea-5de7-43c2-b078-ec352e22fd00",
   "metadata": {},
   "source": [
    "## Numpy Array"
   ]
  },
  {
   "cell_type": "code",
   "execution_count": 11,
   "id": "f16b9587-237c-423e-b3b3-c98e3e2c84d8",
   "metadata": {},
   "outputs": [
    {
     "data": {
      "text/plain": [
       "[20, 30, 40]"
      ]
     },
     "execution_count": 11,
     "metadata": {},
     "output_type": "execute_result"
    }
   ],
   "source": [
    "myList = [20,30,40]\n",
    "myList"
   ]
  },
  {
   "cell_type": "code",
   "execution_count": 9,
   "id": "b989e50c-8a9c-4a6b-b11f-5a9ad1caf7eb",
   "metadata": {},
   "outputs": [
    {
     "data": {
      "text/plain": [
       "array([20, 30, 40])"
      ]
     },
     "execution_count": 9,
     "metadata": {},
     "output_type": "execute_result"
    }
   ],
   "source": [
    "np.array(myList)"
   ]
  },
  {
   "cell_type": "code",
   "execution_count": 13,
   "id": "6dba70ea-be18-4247-80e3-644f0d2429b8",
   "metadata": {},
   "outputs": [],
   "source": [
    "matrixList = [[10,20,30],[40,50,60],[70,80,90]]"
   ]
  },
  {
   "cell_type": "code",
   "execution_count": 15,
   "id": "76ec59c5-aa2a-465b-ba96-f20ef24f0e28",
   "metadata": {},
   "outputs": [
    {
     "data": {
      "text/plain": [
       "[[10, 20, 30], [40, 50, 60], [70, 80, 90]]"
      ]
     },
     "execution_count": 15,
     "metadata": {},
     "output_type": "execute_result"
    }
   ],
   "source": [
    "matrixList"
   ]
  },
  {
   "cell_type": "code",
   "execution_count": 17,
   "id": "706fc889-c424-4960-a6ae-e615095bc6d3",
   "metadata": {},
   "outputs": [
    {
     "data": {
      "text/plain": [
       "array([[10, 20, 30],\n",
       "       [40, 50, 60],\n",
       "       [70, 80, 90]])"
      ]
     },
     "execution_count": 17,
     "metadata": {},
     "output_type": "execute_result"
    }
   ],
   "source": [
    "np.array(matrixList)"
   ]
  },
  {
   "cell_type": "markdown",
   "id": "d944293b-6a5c-4bc6-b525-2338cfdee3f2",
   "metadata": {},
   "source": [
    "## arange"
   ]
  },
  {
   "cell_type": "code",
   "execution_count": 28,
   "id": "bc64ef5b-d049-4429-983e-e136fe38a445",
   "metadata": {},
   "outputs": [
    {
     "data": {
      "text/plain": [
       "array([0, 1, 2, 3, 4, 5, 6, 7, 8, 9])"
      ]
     },
     "execution_count": 28,
     "metadata": {},
     "output_type": "execute_result"
    }
   ],
   "source": [
    "np.arange(0,10)"
   ]
  },
  {
   "cell_type": "markdown",
   "id": "0ce2ceab-b0e9-4cd1-9d04-02cb0a07c628",
   "metadata": {},
   "source": [
    "## zeros"
   ]
  },
  {
   "cell_type": "code",
   "execution_count": 31,
   "id": "60684b13-91b2-4eb8-8d8b-a61ef9dc2f3f",
   "metadata": {},
   "outputs": [
    {
     "data": {
      "text/plain": [
       "array([0., 0., 0., 0., 0., 0.])"
      ]
     },
     "execution_count": 31,
     "metadata": {},
     "output_type": "execute_result"
    }
   ],
   "source": [
    "np.zeros(6)"
   ]
  },
  {
   "cell_type": "code",
   "execution_count": 33,
   "id": "b772df1e-a42f-49d7-ad96-e13330957523",
   "metadata": {},
   "outputs": [
    {
     "data": {
      "text/plain": [
       "array([[0., 0.],\n",
       "       [0., 0.]])"
      ]
     },
     "execution_count": 33,
     "metadata": {},
     "output_type": "execute_result"
    }
   ],
   "source": [
    "np.zeros((2,2))"
   ]
  },
  {
   "cell_type": "markdown",
   "id": "246e3e2a-a25c-4c5a-89e1-c00b4652a261",
   "metadata": {},
   "source": [
    "## ones"
   ]
  },
  {
   "cell_type": "code",
   "execution_count": 40,
   "id": "6000abfc-bb22-4061-a91d-31cea697d373",
   "metadata": {},
   "outputs": [
    {
     "data": {
      "text/plain": [
       "array([[1., 1., 1., 1.],\n",
       "       [1., 1., 1., 1.],\n",
       "       [1., 1., 1., 1.],\n",
       "       [1., 1., 1., 1.]])"
      ]
     },
     "execution_count": 40,
     "metadata": {},
     "output_type": "execute_result"
    }
   ],
   "source": [
    "np.ones((4,4))"
   ]
  },
  {
   "cell_type": "markdown",
   "id": "fd3add2a-5797-47bc-a1c1-00673491fe89",
   "metadata": {},
   "source": [
    "## linspace"
   ]
  },
  {
   "cell_type": "code",
   "execution_count": 45,
   "id": "1d3b020d-02c8-40e4-a781-ceb7adfeaacf",
   "metadata": {},
   "outputs": [
    {
     "data": {
      "text/plain": [
       "array([ 0.        ,  3.33333333,  6.66666667, 10.        , 13.33333333,\n",
       "       16.66666667, 20.        ])"
      ]
     },
     "execution_count": 45,
     "metadata": {},
     "output_type": "execute_result"
    }
   ],
   "source": [
    "np.linspace(0,20,7)"
   ]
  },
  {
   "cell_type": "markdown",
   "id": "512c2557-3f88-425d-aca6-566cfb717cb9",
   "metadata": {},
   "source": [
    "## eye"
   ]
  },
  {
   "cell_type": "code",
   "execution_count": 48,
   "id": "9cd5d51f-82f6-450d-ad4c-a3395d01a2d0",
   "metadata": {},
   "outputs": [
    {
     "data": {
      "text/plain": [
       "array([[1., 0., 0.],\n",
       "       [0., 1., 0.],\n",
       "       [0., 0., 1.]])"
      ]
     },
     "execution_count": 48,
     "metadata": {},
     "output_type": "execute_result"
    }
   ],
   "source": [
    "np.eye(3)"
   ]
  },
  {
   "cell_type": "markdown",
   "id": "43b44349-3bd5-489f-b83e-78d35bc6ce52",
   "metadata": {},
   "source": [
    "## random"
   ]
  },
  {
   "cell_type": "code",
   "execution_count": 53,
   "id": "11736148-1e89-4b4c-83e3-e0afd01b9551",
   "metadata": {},
   "outputs": [
    {
     "data": {
      "text/plain": [
       "array([-0.12598917, -0.02454166, -0.68758646, -0.5165438 , -0.25333339,\n",
       "       -1.78182006, -0.10316757,  0.2334815 ])"
      ]
     },
     "execution_count": 53,
     "metadata": {},
     "output_type": "execute_result"
    }
   ],
   "source": [
    "np.random.randn(8)"
   ]
  },
  {
   "cell_type": "code",
   "execution_count": 55,
   "id": "ea0c1b9d-e237-44da-8351-b0da283eb9aa",
   "metadata": {},
   "outputs": [
    {
     "data": {
      "text/plain": [
       "array([[ 1.88872143, -0.84933618,  0.13692407, -0.41107529, -0.94576167,\n",
       "         0.73670872, -0.17311055, -0.25780056],\n",
       "       [ 0.14517097,  0.62793143,  0.30581351, -0.5929037 ,  0.59586588,\n",
       "        -0.83830056,  0.05224281, -0.09020053],\n",
       "       [-0.6607916 ,  0.22378652, -0.32676767, -0.19470658,  1.06908213,\n",
       "        -0.71362071,  0.7239447 ,  1.00944711],\n",
       "       [ 0.0864091 ,  0.07018806, -1.45459472,  0.67347619,  0.36086345,\n",
       "         0.5198454 , -0.37628785, -1.85541859],\n",
       "       [ 0.45613101,  1.56307308,  0.09907344,  0.2518004 ,  0.50463217,\n",
       "        -2.51194184,  1.22087788, -0.57136333],\n",
       "       [ 0.60337455,  0.58756118,  0.68324037, -0.53852689, -0.36922616,\n",
       "        -0.55400694,  1.3139732 , -0.47124832],\n",
       "       [ 0.11674608, -0.56449766, -0.72005844, -0.98364208,  0.51704336,\n",
       "        -1.29303955, -0.97833762,  0.54693432],\n",
       "       [-0.14830176,  0.38908031,  0.78307809, -1.492911  , -0.35831239,\n",
       "         0.7062443 , -1.48432365, -1.03703055]])"
      ]
     },
     "execution_count": 55,
     "metadata": {},
     "output_type": "execute_result"
    }
   ],
   "source": [
    "np.random.randn(8,8)"
   ]
  },
  {
   "cell_type": "code",
   "execution_count": 63,
   "id": "94614416-4252-4d9b-acde-b98945696e9b",
   "metadata": {},
   "outputs": [
    {
     "data": {
      "text/plain": [
       "7"
      ]
     },
     "execution_count": 63,
     "metadata": {},
     "output_type": "execute_result"
    }
   ],
   "source": [
    "np.random.randint(1,10)"
   ]
  },
  {
   "cell_type": "code",
   "execution_count": 65,
   "id": "0c00b7c9-63d3-4237-a1d3-7cbaa16a6724",
   "metadata": {},
   "outputs": [
    {
     "data": {
      "text/plain": [
       "array([8, 8, 7, 8, 3])"
      ]
     },
     "execution_count": 65,
     "metadata": {},
     "output_type": "execute_result"
    }
   ],
   "source": [
    "np.random.randint(1,10,5)"
   ]
  },
  {
   "cell_type": "markdown",
   "id": "6f9949e8-531b-42a2-b52d-7b7643cb0ad3",
   "metadata": {},
   "source": [
    "## NumPy Array Methods"
   ]
  },
  {
   "cell_type": "code",
   "execution_count": 70,
   "id": "299c1647-b464-4ae3-9583-e2ceb05b9f8e",
   "metadata": {},
   "outputs": [
    {
     "data": {
      "text/plain": [
       "array([72, 90, 38, 72, 35, 56, 56, 59,  3, 48, 97, 13, 95, 94, 28, 55, 75,\n",
       "       42, 75, 19])"
      ]
     },
     "execution_count": 70,
     "metadata": {},
     "output_type": "execute_result"
    }
   ],
   "source": [
    "myRandomArray = np.random.randint(1,100,20)\n",
    "myRandomArray"
   ]
  },
  {
   "cell_type": "code",
   "execution_count": 72,
   "id": "7346f5ac-4016-44f0-90fc-d893bcb64d5a",
   "metadata": {},
   "outputs": [
    {
     "data": {
      "text/plain": [
       "array([[72, 90, 38, 72],\n",
       "       [35, 56, 56, 59],\n",
       "       [ 3, 48, 97, 13],\n",
       "       [95, 94, 28, 55],\n",
       "       [75, 42, 75, 19]])"
      ]
     },
     "execution_count": 72,
     "metadata": {},
     "output_type": "execute_result"
    }
   ],
   "source": [
    "myRandomArray.reshape(5,4) # convert to matrix"
   ]
  },
  {
   "cell_type": "code",
   "execution_count": 74,
   "id": "8998767e-c619-48e1-80c2-f88090a24b73",
   "metadata": {},
   "outputs": [
    {
     "data": {
      "text/plain": [
       "97"
      ]
     },
     "execution_count": 74,
     "metadata": {},
     "output_type": "execute_result"
    }
   ],
   "source": [
    "myRandomArray.max()"
   ]
  },
  {
   "cell_type": "code",
   "execution_count": 76,
   "id": "c7fb811b-00e6-4bbe-9b71-67915591639e",
   "metadata": {},
   "outputs": [
    {
     "data": {
      "text/plain": [
       "3"
      ]
     },
     "execution_count": 76,
     "metadata": {},
     "output_type": "execute_result"
    }
   ],
   "source": [
    "myRandomArray.min()"
   ]
  },
  {
   "cell_type": "code",
   "execution_count": 78,
   "id": "88c7d169-5eec-4c31-b899-8fb13461c7d2",
   "metadata": {},
   "outputs": [
    {
     "data": {
      "text/plain": [
       "10"
      ]
     },
     "execution_count": 78,
     "metadata": {},
     "output_type": "execute_result"
    }
   ],
   "source": [
    "myRandomArray.argmax()"
   ]
  },
  {
   "cell_type": "code",
   "execution_count": 80,
   "id": "ed589e03-658f-4d37-ba09-475c5cb06869",
   "metadata": {},
   "outputs": [
    {
     "data": {
      "text/plain": [
       "8"
      ]
     },
     "execution_count": 80,
     "metadata": {},
     "output_type": "execute_result"
    }
   ],
   "source": [
    "myRandomArray.argmin()"
   ]
  },
  {
   "cell_type": "code",
   "execution_count": 84,
   "id": "5ed2f58b-25f2-4006-a70e-0c4dba41a237",
   "metadata": {},
   "outputs": [
    {
     "data": {
      "text/plain": [
       "array([ 0,  1,  2,  3,  4,  5,  6,  7,  8,  9, 10, 11, 12, 13, 14])"
      ]
     },
     "execution_count": 84,
     "metadata": {},
     "output_type": "execute_result"
    }
   ],
   "source": [
    "newArray = np.arange(0,15,1)\n",
    "newArray"
   ]
  },
  {
   "cell_type": "code",
   "execution_count": 86,
   "id": "5cee8ad1-d794-4ebd-bd4c-525fe40e0016",
   "metadata": {},
   "outputs": [
    {
     "data": {
      "text/plain": [
       "array([0, 1, 2, 3, 4])"
      ]
     },
     "execution_count": 86,
     "metadata": {},
     "output_type": "execute_result"
    }
   ],
   "source": [
    "newArray[0:5]"
   ]
  },
  {
   "cell_type": "code",
   "execution_count": 88,
   "id": "b33239a2-9053-4f47-9d84-8fa7cc14499f",
   "metadata": {},
   "outputs": [
    {
     "data": {
      "text/plain": [
       "array([3, 4, 5, 6])"
      ]
     },
     "execution_count": 88,
     "metadata": {},
     "output_type": "execute_result"
    }
   ],
   "source": [
    "newArray[3:7]"
   ]
  },
  {
   "cell_type": "markdown",
   "id": "1f74b46d-7603-4579-9fd9-297960396d82",
   "metadata": {},
   "source": [
    "## Matrix"
   ]
  },
  {
   "cell_type": "code",
   "execution_count": 11,
   "id": "7b3306f6-e81b-4d5c-be38-df38fa1aea6e",
   "metadata": {},
   "outputs": [
    {
     "data": {
      "text/plain": [
       "array([ 1,  3,  5,  7,  9, 11, 13, 15, 17, 19])"
      ]
     },
     "execution_count": 11,
     "metadata": {},
     "output_type": "execute_result"
    }
   ],
   "source": [
    "exampleArray = np.arange(1,20,2)\n",
    "\n",
    "exampleArray"
   ]
  },
  {
   "cell_type": "code",
   "execution_count": 13,
   "id": "69da8755-1412-4342-87a5-584fc1444645",
   "metadata": {},
   "outputs": [],
   "source": [
    "exampleMatrix = exampleArray.reshape(5,2)"
   ]
  },
  {
   "cell_type": "code",
   "execution_count": 15,
   "id": "91faa34f-052d-47d3-a6f6-b8e697ae3ba1",
   "metadata": {},
   "outputs": [
    {
     "data": {
      "text/plain": [
       "array([[ 1,  3],\n",
       "       [ 5,  7],\n",
       "       [ 9, 11],\n",
       "       [13, 15],\n",
       "       [17, 19]])"
      ]
     },
     "execution_count": 15,
     "metadata": {},
     "output_type": "execute_result"
    }
   ],
   "source": [
    "exampleMatrix"
   ]
  },
  {
   "cell_type": "code",
   "execution_count": 17,
   "id": "e758165a-f7e3-4760-87e3-91cbcf593944",
   "metadata": {},
   "outputs": [
    {
     "data": {
      "text/plain": [
       "7"
      ]
     },
     "execution_count": 17,
     "metadata": {},
     "output_type": "execute_result"
    }
   ],
   "source": [
    "exampleMatrix[1][1]"
   ]
  },
  {
   "cell_type": "code",
   "execution_count": 21,
   "id": "fdeb9488-9b23-429f-8526-8c831a0f9250",
   "metadata": {},
   "outputs": [
    {
     "data": {
      "text/plain": [
       "array([[ 7],\n",
       "       [11],\n",
       "       [15],\n",
       "       [19]])"
      ]
     },
     "execution_count": 21,
     "metadata": {},
     "output_type": "execute_result"
    }
   ],
   "source": [
    "exampleMatrix[1:,1:]"
   ]
  },
  {
   "cell_type": "markdown",
   "id": "f6891a16-ae65-449c-85af-9549daa8464c",
   "metadata": {},
   "source": [
    "## Operations"
   ]
  },
  {
   "cell_type": "code",
   "execution_count": 28,
   "id": "7a853f3b-8dbf-4488-b237-e0af110b01eb",
   "metadata": {},
   "outputs": [],
   "source": [
    "newArr = np.random.randint(1,100,20)"
   ]
  },
  {
   "cell_type": "code",
   "execution_count": 30,
   "id": "ad5ac7a2-3d22-469d-a8e8-22e5a9921fe2",
   "metadata": {},
   "outputs": [
    {
     "data": {
      "text/plain": [
       "array([12,  7, 48, 97, 72, 41,  6, 65, 46, 60, 96, 88, 65, 57, 73, 37, 95,\n",
       "       19, 64, 53])"
      ]
     },
     "execution_count": 30,
     "metadata": {},
     "output_type": "execute_result"
    }
   ],
   "source": [
    "newArr"
   ]
  },
  {
   "cell_type": "code",
   "execution_count": 32,
   "id": "326f5758-a7e3-4b0e-9fcb-26b3b15ab151",
   "metadata": {},
   "outputs": [
    {
     "data": {
      "text/plain": [
       "array([False, False,  True,  True,  True,  True, False,  True,  True,\n",
       "        True,  True,  True,  True,  True,  True,  True,  True, False,\n",
       "        True,  True])"
      ]
     },
     "execution_count": 32,
     "metadata": {},
     "output_type": "execute_result"
    }
   ],
   "source": [
    "newArr > 23"
   ]
  },
  {
   "cell_type": "code",
   "execution_count": 34,
   "id": "bdd66906-9871-461b-8257-8bf3baf387a1",
   "metadata": {},
   "outputs": [
    {
     "data": {
      "text/plain": [
       "array([3.46410162, 2.64575131, 6.92820323, 9.8488578 , 8.48528137,\n",
       "       6.40312424, 2.44948974, 8.06225775, 6.78232998, 7.74596669,\n",
       "       9.79795897, 9.38083152, 8.06225775, 7.54983444, 8.54400375,\n",
       "       6.08276253, 9.74679434, 4.35889894, 8.        , 7.28010989])"
      ]
     },
     "execution_count": 34,
     "metadata": {},
     "output_type": "execute_result"
    }
   ],
   "source": [
    "np.sqrt(newArr)"
   ]
  },
  {
   "cell_type": "code",
   "execution_count": 38,
   "id": "825b6e62-b819-432b-b816-fcb80269e414",
   "metadata": {},
   "outputs": [
    {
     "data": {
      "text/plain": [
       "55.05"
      ]
     },
     "execution_count": 38,
     "metadata": {},
     "output_type": "execute_result"
    }
   ],
   "source": [
    "np.average(newArr)"
   ]
  },
  {
   "cell_type": "code",
   "execution_count": null,
   "id": "d6eb127c-838e-489d-b408-17bc6258be14",
   "metadata": {},
   "outputs": [],
   "source": []
  }
 ],
 "metadata": {
  "kernelspec": {
   "display_name": "Python 3 (ipykernel)",
   "language": "python",
   "name": "python3"
  },
  "language_info": {
   "codemirror_mode": {
    "name": "ipython",
    "version": 3
   },
   "file_extension": ".py",
   "mimetype": "text/x-python",
   "name": "python",
   "nbconvert_exporter": "python",
   "pygments_lexer": "ipython3",
   "version": "3.11.7"
  }
 },
 "nbformat": 4,
 "nbformat_minor": 5
}
