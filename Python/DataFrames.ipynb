{
 "cells": [
  {
   "cell_type": "code",
   "execution_count": 2,
   "id": "c5e8603f-cf38-42b2-af6d-96f53fc57dbe",
   "metadata": {},
   "outputs": [],
   "source": [
    "import numpy as np\n",
    "import pandas as pd"
   ]
  },
  {
   "cell_type": "code",
   "execution_count": 8,
   "id": "56afab01-b164-4a23-a465-2cef8291ed0e",
   "metadata": {},
   "outputs": [
    {
     "data": {
      "text/plain": [
       "array([[ 1.40054057,  2.03519685, -0.86306839],\n",
       "       [-0.44709763, -0.03578277,  0.93004878],\n",
       "       [-0.05355483, -0.28183988, -0.39368486],\n",
       "       [ 2.06527043, -0.18479999,  1.26976808]])"
      ]
     },
     "execution_count": 8,
     "metadata": {},
     "output_type": "execute_result"
    }
   ],
   "source": [
    "data = np.random.randn(4,3)\n",
    "data"
   ]
  },
  {
   "cell_type": "code",
   "execution_count": 10,
   "id": "0547c32c-3fb2-4d3d-b126-c42f453ed246",
   "metadata": {},
   "outputs": [],
   "source": [
    "dataFrame = pd.DataFrame(data)"
   ]
  },
  {
   "cell_type": "code",
   "execution_count": 12,
   "id": "c75bb753-9868-44e9-b62c-83c08d92ee3f",
   "metadata": {},
   "outputs": [
    {
     "data": {
      "text/html": [
       "<div>\n",
       "<style scoped>\n",
       "    .dataframe tbody tr th:only-of-type {\n",
       "        vertical-align: middle;\n",
       "    }\n",
       "\n",
       "    .dataframe tbody tr th {\n",
       "        vertical-align: top;\n",
       "    }\n",
       "\n",
       "    .dataframe thead th {\n",
       "        text-align: right;\n",
       "    }\n",
       "</style>\n",
       "<table border=\"1\" class=\"dataframe\">\n",
       "  <thead>\n",
       "    <tr style=\"text-align: right;\">\n",
       "      <th></th>\n",
       "      <th>0</th>\n",
       "      <th>1</th>\n",
       "      <th>2</th>\n",
       "    </tr>\n",
       "  </thead>\n",
       "  <tbody>\n",
       "    <tr>\n",
       "      <th>0</th>\n",
       "      <td>1.400541</td>\n",
       "      <td>2.035197</td>\n",
       "      <td>-0.863068</td>\n",
       "    </tr>\n",
       "    <tr>\n",
       "      <th>1</th>\n",
       "      <td>-0.447098</td>\n",
       "      <td>-0.035783</td>\n",
       "      <td>0.930049</td>\n",
       "    </tr>\n",
       "    <tr>\n",
       "      <th>2</th>\n",
       "      <td>-0.053555</td>\n",
       "      <td>-0.281840</td>\n",
       "      <td>-0.393685</td>\n",
       "    </tr>\n",
       "    <tr>\n",
       "      <th>3</th>\n",
       "      <td>2.065270</td>\n",
       "      <td>-0.184800</td>\n",
       "      <td>1.269768</td>\n",
       "    </tr>\n",
       "  </tbody>\n",
       "</table>\n",
       "</div>"
      ],
      "text/plain": [
       "          0         1         2\n",
       "0  1.400541  2.035197 -0.863068\n",
       "1 -0.447098 -0.035783  0.930049\n",
       "2 -0.053555 -0.281840 -0.393685\n",
       "3  2.065270 -0.184800  1.269768"
      ]
     },
     "execution_count": 12,
     "metadata": {},
     "output_type": "execute_result"
    }
   ],
   "source": [
    "dataFrame"
   ]
  },
  {
   "cell_type": "code",
   "execution_count": 26,
   "id": "d9cdcdf0-d310-4786-aa21-4bc63c71f3ee",
   "metadata": {},
   "outputs": [
    {
     "data": {
      "text/html": [
       "<div>\n",
       "<style scoped>\n",
       "    .dataframe tbody tr th:only-of-type {\n",
       "        vertical-align: middle;\n",
       "    }\n",
       "\n",
       "    .dataframe tbody tr th {\n",
       "        vertical-align: top;\n",
       "    }\n",
       "\n",
       "    .dataframe thead th {\n",
       "        text-align: right;\n",
       "    }\n",
       "</style>\n",
       "<table border=\"1\" class=\"dataframe\">\n",
       "  <thead>\n",
       "    <tr style=\"text-align: right;\">\n",
       "      <th></th>\n",
       "      <th>Person1</th>\n",
       "      <th>Person2</th>\n",
       "      <th>Person3</th>\n",
       "    </tr>\n",
       "  </thead>\n",
       "  <tbody>\n",
       "    <tr>\n",
       "      <th>Name</th>\n",
       "      <td>1.400541</td>\n",
       "      <td>2.035197</td>\n",
       "      <td>-0.863068</td>\n",
       "    </tr>\n",
       "    <tr>\n",
       "      <th>Surname</th>\n",
       "      <td>-0.447098</td>\n",
       "      <td>-0.035783</td>\n",
       "      <td>0.930049</td>\n",
       "    </tr>\n",
       "    <tr>\n",
       "      <th>Age</th>\n",
       "      <td>-0.053555</td>\n",
       "      <td>-0.281840</td>\n",
       "      <td>-0.393685</td>\n",
       "    </tr>\n",
       "    <tr>\n",
       "      <th>Grade</th>\n",
       "      <td>2.065270</td>\n",
       "      <td>-0.184800</td>\n",
       "      <td>1.269768</td>\n",
       "    </tr>\n",
       "  </tbody>\n",
       "</table>\n",
       "</div>"
      ],
      "text/plain": [
       "          Person1   Person2   Person3\n",
       "Name     1.400541  2.035197 -0.863068\n",
       "Surname -0.447098 -0.035783  0.930049\n",
       "Age     -0.053555 -0.281840 -0.393685\n",
       "Grade    2.065270 -0.184800  1.269768"
      ]
     },
     "execution_count": 26,
     "metadata": {},
     "output_type": "execute_result"
    }
   ],
   "source": [
    "newDataFrame = pd.DataFrame(data, index = [\"Name\",\"Surname\",\"Age\",\"Grade\"], columns=[\"Person1\",\"Person2\",\"Person3\"] )\n",
    "newDataFrame"
   ]
  },
  {
   "cell_type": "markdown",
   "id": "ae8a04e8-7e5b-48f9-9c6d-26fc8f570203",
   "metadata": {},
   "source": [
    "## Column Operations"
   ]
  },
  {
   "cell_type": "code",
   "execution_count": 28,
   "id": "a66b4d2e-a83b-4ed8-8e8f-ba4e441323a6",
   "metadata": {},
   "outputs": [
    {
     "data": {
      "text/plain": [
       "Name       1.400541\n",
       "Surname   -0.447098\n",
       "Age       -0.053555\n",
       "Grade      2.065270\n",
       "Name: Person1, dtype: float64"
      ]
     },
     "execution_count": 28,
     "metadata": {},
     "output_type": "execute_result"
    }
   ],
   "source": [
    "newDataFrame[\"Person1\"]"
   ]
  },
  {
   "cell_type": "code",
   "execution_count": 30,
   "id": "369fa87e-c3aa-41dd-9a37-abc5c4a17370",
   "metadata": {},
   "outputs": [
    {
     "data": {
      "text/plain": [
       "Name       2.035197\n",
       "Surname   -0.035783\n",
       "Age       -0.281840\n",
       "Grade     -0.184800\n",
       "Name: Person2, dtype: float64"
      ]
     },
     "execution_count": 30,
     "metadata": {},
     "output_type": "execute_result"
    }
   ],
   "source": [
    "newDataFrame[\"Person2\"]"
   ]
  },
  {
   "cell_type": "code",
   "execution_count": 34,
   "id": "2541c19f-9097-4801-ae39-98ce35b46c0b",
   "metadata": {},
   "outputs": [
    {
     "data": {
      "text/html": [
       "<div>\n",
       "<style scoped>\n",
       "    .dataframe tbody tr th:only-of-type {\n",
       "        vertical-align: middle;\n",
       "    }\n",
       "\n",
       "    .dataframe tbody tr th {\n",
       "        vertical-align: top;\n",
       "    }\n",
       "\n",
       "    .dataframe thead th {\n",
       "        text-align: right;\n",
       "    }\n",
       "</style>\n",
       "<table border=\"1\" class=\"dataframe\">\n",
       "  <thead>\n",
       "    <tr style=\"text-align: right;\">\n",
       "      <th></th>\n",
       "      <th>Person1</th>\n",
       "      <th>Person2</th>\n",
       "    </tr>\n",
       "  </thead>\n",
       "  <tbody>\n",
       "    <tr>\n",
       "      <th>Name</th>\n",
       "      <td>1.400541</td>\n",
       "      <td>2.035197</td>\n",
       "    </tr>\n",
       "    <tr>\n",
       "      <th>Surname</th>\n",
       "      <td>-0.447098</td>\n",
       "      <td>-0.035783</td>\n",
       "    </tr>\n",
       "    <tr>\n",
       "      <th>Age</th>\n",
       "      <td>-0.053555</td>\n",
       "      <td>-0.281840</td>\n",
       "    </tr>\n",
       "    <tr>\n",
       "      <th>Grade</th>\n",
       "      <td>2.065270</td>\n",
       "      <td>-0.184800</td>\n",
       "    </tr>\n",
       "  </tbody>\n",
       "</table>\n",
       "</div>"
      ],
      "text/plain": [
       "          Person1   Person2\n",
       "Name     1.400541  2.035197\n",
       "Surname -0.447098 -0.035783\n",
       "Age     -0.053555 -0.281840\n",
       "Grade    2.065270 -0.184800"
      ]
     },
     "execution_count": 34,
     "metadata": {},
     "output_type": "execute_result"
    }
   ],
   "source": [
    "newDataFrame[[\"Person1\",\"Person2\"]]"
   ]
  },
  {
   "cell_type": "markdown",
   "id": "2893af70-0cc4-494b-826b-4a036512d2ad",
   "metadata": {},
   "source": [
    "## Row Operations"
   ]
  },
  {
   "cell_type": "code",
   "execution_count": 42,
   "id": "be249fcb-818f-4eb4-a96d-295dc3fa383b",
   "metadata": {},
   "outputs": [
    {
     "data": {
      "text/plain": [
       "Person1    1.400541\n",
       "Person2    2.035197\n",
       "Person3   -0.863068\n",
       "Name: Name, dtype: float64"
      ]
     },
     "execution_count": 42,
     "metadata": {},
     "output_type": "execute_result"
    }
   ],
   "source": [
    "newDataFrame.loc[\"Name\"]"
   ]
  },
  {
   "cell_type": "code",
   "execution_count": 44,
   "id": "0e57f21d-1504-468c-a50f-a552a7e7b144",
   "metadata": {},
   "outputs": [
    {
     "data": {
      "text/plain": [
       "Person1   -0.447098\n",
       "Person2   -0.035783\n",
       "Person3    0.930049\n",
       "Name: Surname, dtype: float64"
      ]
     },
     "execution_count": 44,
     "metadata": {},
     "output_type": "execute_result"
    }
   ],
   "source": [
    "newDataFrame.loc[\"Surname\"]"
   ]
  },
  {
   "cell_type": "code",
   "execution_count": 46,
   "id": "c6496495-8987-438d-b3fa-b30f218c81ed",
   "metadata": {},
   "outputs": [
    {
     "data": {
      "text/plain": [
       "Person1    1.400541\n",
       "Person2    2.035197\n",
       "Person3   -0.863068\n",
       "Name: Name, dtype: float64"
      ]
     },
     "execution_count": 46,
     "metadata": {},
     "output_type": "execute_result"
    }
   ],
   "source": [
    "newDataFrame.iloc[0]"
   ]
  },
  {
   "cell_type": "code",
   "execution_count": 48,
   "id": "6024b643-1092-4da2-8237-2406c69f8c98",
   "metadata": {},
   "outputs": [
    {
     "data": {
      "text/plain": [
       "Person1   -0.447098\n",
       "Person2   -0.035783\n",
       "Person3    0.930049\n",
       "Name: Surname, dtype: float64"
      ]
     },
     "execution_count": 48,
     "metadata": {},
     "output_type": "execute_result"
    }
   ],
   "source": [
    "newDataFrame.iloc[1]"
   ]
  },
  {
   "cell_type": "code",
   "execution_count": 50,
   "id": "40113fae-d9c9-42bd-a679-6dbb478e73a5",
   "metadata": {},
   "outputs": [
    {
     "data": {
      "text/html": [
       "<div>\n",
       "<style scoped>\n",
       "    .dataframe tbody tr th:only-of-type {\n",
       "        vertical-align: middle;\n",
       "    }\n",
       "\n",
       "    .dataframe tbody tr th {\n",
       "        vertical-align: top;\n",
       "    }\n",
       "\n",
       "    .dataframe thead th {\n",
       "        text-align: right;\n",
       "    }\n",
       "</style>\n",
       "<table border=\"1\" class=\"dataframe\">\n",
       "  <thead>\n",
       "    <tr style=\"text-align: right;\">\n",
       "      <th></th>\n",
       "      <th>Person1</th>\n",
       "      <th>Person2</th>\n",
       "      <th>Person3</th>\n",
       "    </tr>\n",
       "  </thead>\n",
       "  <tbody>\n",
       "    <tr>\n",
       "      <th>Name</th>\n",
       "      <td>1.400541</td>\n",
       "      <td>2.035197</td>\n",
       "      <td>-0.863068</td>\n",
       "    </tr>\n",
       "    <tr>\n",
       "      <th>Surname</th>\n",
       "      <td>-0.447098</td>\n",
       "      <td>-0.035783</td>\n",
       "      <td>0.930049</td>\n",
       "    </tr>\n",
       "    <tr>\n",
       "      <th>Age</th>\n",
       "      <td>-0.053555</td>\n",
       "      <td>-0.281840</td>\n",
       "      <td>-0.393685</td>\n",
       "    </tr>\n",
       "    <tr>\n",
       "      <th>Grade</th>\n",
       "      <td>2.065270</td>\n",
       "      <td>-0.184800</td>\n",
       "      <td>1.269768</td>\n",
       "    </tr>\n",
       "  </tbody>\n",
       "</table>\n",
       "</div>"
      ],
      "text/plain": [
       "          Person1   Person2   Person3\n",
       "Name     1.400541  2.035197 -0.863068\n",
       "Surname -0.447098 -0.035783  0.930049\n",
       "Age     -0.053555 -0.281840 -0.393685\n",
       "Grade    2.065270 -0.184800  1.269768"
      ]
     },
     "execution_count": 50,
     "metadata": {},
     "output_type": "execute_result"
    }
   ],
   "source": [
    "newDataFrame"
   ]
  },
  {
   "cell_type": "code",
   "execution_count": 52,
   "id": "b5911d15-883f-4c6c-bf9b-c7fb95099e81",
   "metadata": {},
   "outputs": [],
   "source": [
    "## Add a column\n",
    "newDataFrame[\"Person4\"] = newDataFrame[\"Person1\"] + newDataFrame[\"Person2\"]\n"
   ]
  },
  {
   "cell_type": "code",
   "execution_count": 57,
   "id": "beb07552-b34b-478b-b37c-7752f61555a9",
   "metadata": {},
   "outputs": [
    {
     "data": {
      "text/html": [
       "<div>\n",
       "<style scoped>\n",
       "    .dataframe tbody tr th:only-of-type {\n",
       "        vertical-align: middle;\n",
       "    }\n",
       "\n",
       "    .dataframe tbody tr th {\n",
       "        vertical-align: top;\n",
       "    }\n",
       "\n",
       "    .dataframe thead th {\n",
       "        text-align: right;\n",
       "    }\n",
       "</style>\n",
       "<table border=\"1\" class=\"dataframe\">\n",
       "  <thead>\n",
       "    <tr style=\"text-align: right;\">\n",
       "      <th></th>\n",
       "      <th>Person1</th>\n",
       "      <th>Person2</th>\n",
       "      <th>Person3</th>\n",
       "      <th>Person4</th>\n",
       "    </tr>\n",
       "  </thead>\n",
       "  <tbody>\n",
       "    <tr>\n",
       "      <th>Name</th>\n",
       "      <td>1.400541</td>\n",
       "      <td>2.035197</td>\n",
       "      <td>-0.863068</td>\n",
       "      <td>3.435737</td>\n",
       "    </tr>\n",
       "    <tr>\n",
       "      <th>Surname</th>\n",
       "      <td>-0.447098</td>\n",
       "      <td>-0.035783</td>\n",
       "      <td>0.930049</td>\n",
       "      <td>-0.482880</td>\n",
       "    </tr>\n",
       "    <tr>\n",
       "      <th>Age</th>\n",
       "      <td>-0.053555</td>\n",
       "      <td>-0.281840</td>\n",
       "      <td>-0.393685</td>\n",
       "      <td>-0.335395</td>\n",
       "    </tr>\n",
       "    <tr>\n",
       "      <th>Grade</th>\n",
       "      <td>2.065270</td>\n",
       "      <td>-0.184800</td>\n",
       "      <td>1.269768</td>\n",
       "      <td>1.880470</td>\n",
       "    </tr>\n",
       "  </tbody>\n",
       "</table>\n",
       "</div>"
      ],
      "text/plain": [
       "          Person1   Person2   Person3   Person4\n",
       "Name     1.400541  2.035197 -0.863068  3.435737\n",
       "Surname -0.447098 -0.035783  0.930049 -0.482880\n",
       "Age     -0.053555 -0.281840 -0.393685 -0.335395\n",
       "Grade    2.065270 -0.184800  1.269768  1.880470"
      ]
     },
     "execution_count": 57,
     "metadata": {},
     "output_type": "execute_result"
    }
   ],
   "source": [
    "newDataFrame"
   ]
  },
  {
   "cell_type": "code",
   "execution_count": 67,
   "id": "23def79e-691f-417d-9fd2-2e3fa32f0d5e",
   "metadata": {},
   "outputs": [
    {
     "data": {
      "text/html": [
       "<div>\n",
       "<style scoped>\n",
       "    .dataframe tbody tr th:only-of-type {\n",
       "        vertical-align: middle;\n",
       "    }\n",
       "\n",
       "    .dataframe tbody tr th {\n",
       "        vertical-align: top;\n",
       "    }\n",
       "\n",
       "    .dataframe thead th {\n",
       "        text-align: right;\n",
       "    }\n",
       "</style>\n",
       "<table border=\"1\" class=\"dataframe\">\n",
       "  <thead>\n",
       "    <tr style=\"text-align: right;\">\n",
       "      <th></th>\n",
       "      <th>Person1</th>\n",
       "      <th>Person2</th>\n",
       "      <th>Person3</th>\n",
       "    </tr>\n",
       "  </thead>\n",
       "  <tbody>\n",
       "    <tr>\n",
       "      <th>Name</th>\n",
       "      <td>1.400541</td>\n",
       "      <td>2.035197</td>\n",
       "      <td>-0.863068</td>\n",
       "    </tr>\n",
       "    <tr>\n",
       "      <th>Surname</th>\n",
       "      <td>-0.447098</td>\n",
       "      <td>-0.035783</td>\n",
       "      <td>0.930049</td>\n",
       "    </tr>\n",
       "    <tr>\n",
       "      <th>Age</th>\n",
       "      <td>-0.053555</td>\n",
       "      <td>-0.281840</td>\n",
       "      <td>-0.393685</td>\n",
       "    </tr>\n",
       "    <tr>\n",
       "      <th>Grade</th>\n",
       "      <td>2.065270</td>\n",
       "      <td>-0.184800</td>\n",
       "      <td>1.269768</td>\n",
       "    </tr>\n",
       "  </tbody>\n",
       "</table>\n",
       "</div>"
      ],
      "text/plain": [
       "          Person1   Person2   Person3\n",
       "Name     1.400541  2.035197 -0.863068\n",
       "Surname -0.447098 -0.035783  0.930049\n",
       "Age     -0.053555 -0.281840 -0.393685\n",
       "Grade    2.065270 -0.184800  1.269768"
      ]
     },
     "execution_count": 67,
     "metadata": {},
     "output_type": "execute_result"
    }
   ],
   "source": [
    "## Remove a column\n",
    "\n",
    "newDataFrame.drop(\"Person4\", axis=1)"
   ]
  },
  {
   "cell_type": "code",
   "execution_count": 73,
   "id": "fa39c7fa-77eb-458b-8972-d87ac11c50fb",
   "metadata": {},
   "outputs": [
    {
     "data": {
      "text/html": [
       "<div>\n",
       "<style scoped>\n",
       "    .dataframe tbody tr th:only-of-type {\n",
       "        vertical-align: middle;\n",
       "    }\n",
       "\n",
       "    .dataframe tbody tr th {\n",
       "        vertical-align: top;\n",
       "    }\n",
       "\n",
       "    .dataframe thead th {\n",
       "        text-align: right;\n",
       "    }\n",
       "</style>\n",
       "<table border=\"1\" class=\"dataframe\">\n",
       "  <thead>\n",
       "    <tr style=\"text-align: right;\">\n",
       "      <th></th>\n",
       "      <th>Person1</th>\n",
       "      <th>Person2</th>\n",
       "      <th>Person3</th>\n",
       "      <th>Person4</th>\n",
       "    </tr>\n",
       "  </thead>\n",
       "  <tbody>\n",
       "    <tr>\n",
       "      <th>Surname</th>\n",
       "      <td>-0.447098</td>\n",
       "      <td>-0.035783</td>\n",
       "      <td>0.930049</td>\n",
       "      <td>-0.482880</td>\n",
       "    </tr>\n",
       "    <tr>\n",
       "      <th>Age</th>\n",
       "      <td>-0.053555</td>\n",
       "      <td>-0.281840</td>\n",
       "      <td>-0.393685</td>\n",
       "      <td>-0.335395</td>\n",
       "    </tr>\n",
       "    <tr>\n",
       "      <th>Grade</th>\n",
       "      <td>2.065270</td>\n",
       "      <td>-0.184800</td>\n",
       "      <td>1.269768</td>\n",
       "      <td>1.880470</td>\n",
       "    </tr>\n",
       "  </tbody>\n",
       "</table>\n",
       "</div>"
      ],
      "text/plain": [
       "          Person1   Person2   Person3   Person4\n",
       "Surname -0.447098 -0.035783  0.930049 -0.482880\n",
       "Age     -0.053555 -0.281840 -0.393685 -0.335395\n",
       "Grade    2.065270 -0.184800  1.269768  1.880470"
      ]
     },
     "execution_count": 73,
     "metadata": {},
     "output_type": "execute_result"
    }
   ],
   "source": [
    "## Remove a row\n",
    "\n",
    "newDataFrame.drop(\"Name\", axis=0)"
   ]
  },
  {
   "cell_type": "code",
   "execution_count": 75,
   "id": "3e9b7389-f27c-4010-b231-22f3d428af72",
   "metadata": {},
   "outputs": [
    {
     "data": {
      "text/html": [
       "<div>\n",
       "<style scoped>\n",
       "    .dataframe tbody tr th:only-of-type {\n",
       "        vertical-align: middle;\n",
       "    }\n",
       "\n",
       "    .dataframe tbody tr th {\n",
       "        vertical-align: top;\n",
       "    }\n",
       "\n",
       "    .dataframe thead th {\n",
       "        text-align: right;\n",
       "    }\n",
       "</style>\n",
       "<table border=\"1\" class=\"dataframe\">\n",
       "  <thead>\n",
       "    <tr style=\"text-align: right;\">\n",
       "      <th></th>\n",
       "      <th>Person1</th>\n",
       "      <th>Person2</th>\n",
       "      <th>Person3</th>\n",
       "      <th>Person4</th>\n",
       "    </tr>\n",
       "  </thead>\n",
       "  <tbody>\n",
       "    <tr>\n",
       "      <th>Name</th>\n",
       "      <td>1.400541</td>\n",
       "      <td>2.035197</td>\n",
       "      <td>-0.863068</td>\n",
       "      <td>3.435737</td>\n",
       "    </tr>\n",
       "    <tr>\n",
       "      <th>Surname</th>\n",
       "      <td>-0.447098</td>\n",
       "      <td>-0.035783</td>\n",
       "      <td>0.930049</td>\n",
       "      <td>-0.482880</td>\n",
       "    </tr>\n",
       "    <tr>\n",
       "      <th>Age</th>\n",
       "      <td>-0.053555</td>\n",
       "      <td>-0.281840</td>\n",
       "      <td>-0.393685</td>\n",
       "      <td>-0.335395</td>\n",
       "    </tr>\n",
       "    <tr>\n",
       "      <th>Grade</th>\n",
       "      <td>2.065270</td>\n",
       "      <td>-0.184800</td>\n",
       "      <td>1.269768</td>\n",
       "      <td>1.880470</td>\n",
       "    </tr>\n",
       "  </tbody>\n",
       "</table>\n",
       "</div>"
      ],
      "text/plain": [
       "          Person1   Person2   Person3   Person4\n",
       "Name     1.400541  2.035197 -0.863068  3.435737\n",
       "Surname -0.447098 -0.035783  0.930049 -0.482880\n",
       "Age     -0.053555 -0.281840 -0.393685 -0.335395\n",
       "Grade    2.065270 -0.184800  1.269768  1.880470"
      ]
     },
     "execution_count": 75,
     "metadata": {},
     "output_type": "execute_result"
    }
   ],
   "source": [
    "newDataFrame"
   ]
  },
  {
   "cell_type": "code",
   "execution_count": 77,
   "id": "5b31243c-ea88-45e0-b624-d0a9a28f175f",
   "metadata": {},
   "outputs": [],
   "source": [
    "newDataFrame.drop(\"Person4\", axis=1 , inplace = True) "
   ]
  },
  {
   "cell_type": "code",
   "execution_count": 79,
   "id": "ae372cd5-926c-4f02-92a8-b5713e26bcd4",
   "metadata": {},
   "outputs": [
    {
     "data": {
      "text/html": [
       "<div>\n",
       "<style scoped>\n",
       "    .dataframe tbody tr th:only-of-type {\n",
       "        vertical-align: middle;\n",
       "    }\n",
       "\n",
       "    .dataframe tbody tr th {\n",
       "        vertical-align: top;\n",
       "    }\n",
       "\n",
       "    .dataframe thead th {\n",
       "        text-align: right;\n",
       "    }\n",
       "</style>\n",
       "<table border=\"1\" class=\"dataframe\">\n",
       "  <thead>\n",
       "    <tr style=\"text-align: right;\">\n",
       "      <th></th>\n",
       "      <th>Person1</th>\n",
       "      <th>Person2</th>\n",
       "      <th>Person3</th>\n",
       "    </tr>\n",
       "  </thead>\n",
       "  <tbody>\n",
       "    <tr>\n",
       "      <th>Name</th>\n",
       "      <td>1.400541</td>\n",
       "      <td>2.035197</td>\n",
       "      <td>-0.863068</td>\n",
       "    </tr>\n",
       "    <tr>\n",
       "      <th>Surname</th>\n",
       "      <td>-0.447098</td>\n",
       "      <td>-0.035783</td>\n",
       "      <td>0.930049</td>\n",
       "    </tr>\n",
       "    <tr>\n",
       "      <th>Age</th>\n",
       "      <td>-0.053555</td>\n",
       "      <td>-0.281840</td>\n",
       "      <td>-0.393685</td>\n",
       "    </tr>\n",
       "    <tr>\n",
       "      <th>Grade</th>\n",
       "      <td>2.065270</td>\n",
       "      <td>-0.184800</td>\n",
       "      <td>1.269768</td>\n",
       "    </tr>\n",
       "  </tbody>\n",
       "</table>\n",
       "</div>"
      ],
      "text/plain": [
       "          Person1   Person2   Person3\n",
       "Name     1.400541  2.035197 -0.863068\n",
       "Surname -0.447098 -0.035783  0.930049\n",
       "Age     -0.053555 -0.281840 -0.393685\n",
       "Grade    2.065270 -0.184800  1.269768"
      ]
     },
     "execution_count": 79,
     "metadata": {},
     "output_type": "execute_result"
    }
   ],
   "source": [
    "newDataFrame"
   ]
  },
  {
   "cell_type": "code",
   "execution_count": 83,
   "id": "40a831de-b315-43e2-bed7-b92ecaa2bbb9",
   "metadata": {},
   "outputs": [
    {
     "data": {
      "text/plain": [
       "Person1    1.400541\n",
       "Person2    2.035197\n",
       "Person3   -0.863068\n",
       "Name: Name, dtype: float64"
      ]
     },
     "execution_count": 83,
     "metadata": {},
     "output_type": "execute_result"
    }
   ],
   "source": [
    "newDataFrame.loc[\"Name\"]"
   ]
  },
  {
   "cell_type": "code",
   "execution_count": 85,
   "id": "38a0f1bd-7adb-46e1-b527-5531a698de13",
   "metadata": {},
   "outputs": [
    {
     "data": {
      "text/plain": [
       "1.4005405704531386"
      ]
     },
     "execution_count": 85,
     "metadata": {},
     "output_type": "execute_result"
    }
   ],
   "source": [
    "newDataFrame.loc[\"Name\"][\"Person1\"]"
   ]
  },
  {
   "cell_type": "code",
   "execution_count": 89,
   "id": "92991c32-e9c5-4d0c-bf73-e86131bbf759",
   "metadata": {},
   "outputs": [
    {
     "data": {
      "text/html": [
       "<div>\n",
       "<style scoped>\n",
       "    .dataframe tbody tr th:only-of-type {\n",
       "        vertical-align: middle;\n",
       "    }\n",
       "\n",
       "    .dataframe tbody tr th {\n",
       "        vertical-align: top;\n",
       "    }\n",
       "\n",
       "    .dataframe thead th {\n",
       "        text-align: right;\n",
       "    }\n",
       "</style>\n",
       "<table border=\"1\" class=\"dataframe\">\n",
       "  <thead>\n",
       "    <tr style=\"text-align: right;\">\n",
       "      <th></th>\n",
       "      <th>Person1</th>\n",
       "      <th>Person2</th>\n",
       "      <th>Person3</th>\n",
       "    </tr>\n",
       "  </thead>\n",
       "  <tbody>\n",
       "    <tr>\n",
       "      <th>Name</th>\n",
       "      <td>1.400541</td>\n",
       "      <td>2.035197</td>\n",
       "      <td>-0.863068</td>\n",
       "    </tr>\n",
       "    <tr>\n",
       "      <th>Surname</th>\n",
       "      <td>-0.447098</td>\n",
       "      <td>-0.035783</td>\n",
       "      <td>0.930049</td>\n",
       "    </tr>\n",
       "    <tr>\n",
       "      <th>Age</th>\n",
       "      <td>-0.053555</td>\n",
       "      <td>-0.281840</td>\n",
       "      <td>-0.393685</td>\n",
       "    </tr>\n",
       "    <tr>\n",
       "      <th>Grade</th>\n",
       "      <td>2.065270</td>\n",
       "      <td>-0.184800</td>\n",
       "      <td>1.269768</td>\n",
       "    </tr>\n",
       "  </tbody>\n",
       "</table>\n",
       "</div>"
      ],
      "text/plain": [
       "          Person1   Person2   Person3\n",
       "Name     1.400541  2.035197 -0.863068\n",
       "Surname -0.447098 -0.035783  0.930049\n",
       "Age     -0.053555 -0.281840 -0.393685\n",
       "Grade    2.065270 -0.184800  1.269768"
      ]
     },
     "execution_count": 89,
     "metadata": {},
     "output_type": "execute_result"
    }
   ],
   "source": [
    "newDataFrame"
   ]
  },
  {
   "cell_type": "code",
   "execution_count": 91,
   "id": "3a242bf1-1541-4bd9-8313-1cd4a9dbc0ec",
   "metadata": {},
   "outputs": [
    {
     "data": {
      "text/html": [
       "<div>\n",
       "<style scoped>\n",
       "    .dataframe tbody tr th:only-of-type {\n",
       "        vertical-align: middle;\n",
       "    }\n",
       "\n",
       "    .dataframe tbody tr th {\n",
       "        vertical-align: top;\n",
       "    }\n",
       "\n",
       "    .dataframe thead th {\n",
       "        text-align: right;\n",
       "    }\n",
       "</style>\n",
       "<table border=\"1\" class=\"dataframe\">\n",
       "  <thead>\n",
       "    <tr style=\"text-align: right;\">\n",
       "      <th></th>\n",
       "      <th>Person1</th>\n",
       "      <th>Person2</th>\n",
       "      <th>Person3</th>\n",
       "    </tr>\n",
       "  </thead>\n",
       "  <tbody>\n",
       "    <tr>\n",
       "      <th>Name</th>\n",
       "      <td>False</td>\n",
       "      <td>False</td>\n",
       "      <td>True</td>\n",
       "    </tr>\n",
       "    <tr>\n",
       "      <th>Surname</th>\n",
       "      <td>True</td>\n",
       "      <td>True</td>\n",
       "      <td>False</td>\n",
       "    </tr>\n",
       "    <tr>\n",
       "      <th>Age</th>\n",
       "      <td>True</td>\n",
       "      <td>True</td>\n",
       "      <td>True</td>\n",
       "    </tr>\n",
       "    <tr>\n",
       "      <th>Grade</th>\n",
       "      <td>False</td>\n",
       "      <td>True</td>\n",
       "      <td>False</td>\n",
       "    </tr>\n",
       "  </tbody>\n",
       "</table>\n",
       "</div>"
      ],
      "text/plain": [
       "         Person1  Person2  Person3\n",
       "Name       False    False     True\n",
       "Surname     True     True    False\n",
       "Age         True     True     True\n",
       "Grade      False     True    False"
      ]
     },
     "execution_count": 91,
     "metadata": {},
     "output_type": "execute_result"
    }
   ],
   "source": [
    "newDataFrame <0 "
   ]
  },
  {
   "cell_type": "code",
   "execution_count": 93,
   "id": "d412d1d1-9644-4343-a9a0-2ec315e15ce5",
   "metadata": {},
   "outputs": [
    {
     "data": {
      "text/html": [
       "<div>\n",
       "<style scoped>\n",
       "    .dataframe tbody tr th:only-of-type {\n",
       "        vertical-align: middle;\n",
       "    }\n",
       "\n",
       "    .dataframe tbody tr th {\n",
       "        vertical-align: top;\n",
       "    }\n",
       "\n",
       "    .dataframe thead th {\n",
       "        text-align: right;\n",
       "    }\n",
       "</style>\n",
       "<table border=\"1\" class=\"dataframe\">\n",
       "  <thead>\n",
       "    <tr style=\"text-align: right;\">\n",
       "      <th></th>\n",
       "      <th>Person1</th>\n",
       "      <th>Person2</th>\n",
       "      <th>Person3</th>\n",
       "    </tr>\n",
       "  </thead>\n",
       "  <tbody>\n",
       "    <tr>\n",
       "      <th>Name</th>\n",
       "      <td>1.400541</td>\n",
       "      <td>2.035197</td>\n",
       "      <td>-0.863068</td>\n",
       "    </tr>\n",
       "    <tr>\n",
       "      <th>Surname</th>\n",
       "      <td>-0.447098</td>\n",
       "      <td>-0.035783</td>\n",
       "      <td>0.930049</td>\n",
       "    </tr>\n",
       "    <tr>\n",
       "      <th>Age</th>\n",
       "      <td>-0.053555</td>\n",
       "      <td>-0.281840</td>\n",
       "      <td>-0.393685</td>\n",
       "    </tr>\n",
       "    <tr>\n",
       "      <th>Grade</th>\n",
       "      <td>2.065270</td>\n",
       "      <td>-0.184800</td>\n",
       "      <td>1.269768</td>\n",
       "    </tr>\n",
       "  </tbody>\n",
       "</table>\n",
       "</div>"
      ],
      "text/plain": [
       "          Person1   Person2   Person3\n",
       "Name     1.400541  2.035197 -0.863068\n",
       "Surname -0.447098 -0.035783  0.930049\n",
       "Age     -0.053555 -0.281840 -0.393685\n",
       "Grade    2.065270 -0.184800  1.269768"
      ]
     },
     "execution_count": 93,
     "metadata": {},
     "output_type": "execute_result"
    }
   ],
   "source": [
    "newDataFrame"
   ]
  },
  {
   "cell_type": "code",
   "execution_count": 95,
   "id": "86804efa-8b66-4375-9424-402b63a13c1e",
   "metadata": {},
   "outputs": [
    {
     "data": {
      "text/html": [
       "<div>\n",
       "<style scoped>\n",
       "    .dataframe tbody tr th:only-of-type {\n",
       "        vertical-align: middle;\n",
       "    }\n",
       "\n",
       "    .dataframe tbody tr th {\n",
       "        vertical-align: top;\n",
       "    }\n",
       "\n",
       "    .dataframe thead th {\n",
       "        text-align: right;\n",
       "    }\n",
       "</style>\n",
       "<table border=\"1\" class=\"dataframe\">\n",
       "  <thead>\n",
       "    <tr style=\"text-align: right;\">\n",
       "      <th></th>\n",
       "      <th>index</th>\n",
       "      <th>Person1</th>\n",
       "      <th>Person2</th>\n",
       "      <th>Person3</th>\n",
       "    </tr>\n",
       "  </thead>\n",
       "  <tbody>\n",
       "    <tr>\n",
       "      <th>0</th>\n",
       "      <td>Name</td>\n",
       "      <td>1.400541</td>\n",
       "      <td>2.035197</td>\n",
       "      <td>-0.863068</td>\n",
       "    </tr>\n",
       "    <tr>\n",
       "      <th>1</th>\n",
       "      <td>Surname</td>\n",
       "      <td>-0.447098</td>\n",
       "      <td>-0.035783</td>\n",
       "      <td>0.930049</td>\n",
       "    </tr>\n",
       "    <tr>\n",
       "      <th>2</th>\n",
       "      <td>Age</td>\n",
       "      <td>-0.053555</td>\n",
       "      <td>-0.281840</td>\n",
       "      <td>-0.393685</td>\n",
       "    </tr>\n",
       "    <tr>\n",
       "      <th>3</th>\n",
       "      <td>Grade</td>\n",
       "      <td>2.065270</td>\n",
       "      <td>-0.184800</td>\n",
       "      <td>1.269768</td>\n",
       "    </tr>\n",
       "  </tbody>\n",
       "</table>\n",
       "</div>"
      ],
      "text/plain": [
       "     index   Person1   Person2   Person3\n",
       "0     Name  1.400541  2.035197 -0.863068\n",
       "1  Surname -0.447098 -0.035783  0.930049\n",
       "2      Age -0.053555 -0.281840 -0.393685\n",
       "3    Grade  2.065270 -0.184800  1.269768"
      ]
     },
     "execution_count": 95,
     "metadata": {},
     "output_type": "execute_result"
    }
   ],
   "source": [
    "newDataFrame.reset_index()"
   ]
  },
  {
   "cell_type": "code",
   "execution_count": 97,
   "id": "06d1d022-a9d6-4787-b4cf-b7711407890c",
   "metadata": {},
   "outputs": [
    {
     "data": {
      "text/html": [
       "<div>\n",
       "<style scoped>\n",
       "    .dataframe tbody tr th:only-of-type {\n",
       "        vertical-align: middle;\n",
       "    }\n",
       "\n",
       "    .dataframe tbody tr th {\n",
       "        vertical-align: top;\n",
       "    }\n",
       "\n",
       "    .dataframe thead th {\n",
       "        text-align: right;\n",
       "    }\n",
       "</style>\n",
       "<table border=\"1\" class=\"dataframe\">\n",
       "  <thead>\n",
       "    <tr style=\"text-align: right;\">\n",
       "      <th></th>\n",
       "      <th>Person1</th>\n",
       "      <th>Person2</th>\n",
       "      <th>Person3</th>\n",
       "    </tr>\n",
       "  </thead>\n",
       "  <tbody>\n",
       "    <tr>\n",
       "      <th>Name</th>\n",
       "      <td>1.400541</td>\n",
       "      <td>2.035197</td>\n",
       "      <td>-0.863068</td>\n",
       "    </tr>\n",
       "    <tr>\n",
       "      <th>Surname</th>\n",
       "      <td>-0.447098</td>\n",
       "      <td>-0.035783</td>\n",
       "      <td>0.930049</td>\n",
       "    </tr>\n",
       "    <tr>\n",
       "      <th>Age</th>\n",
       "      <td>-0.053555</td>\n",
       "      <td>-0.281840</td>\n",
       "      <td>-0.393685</td>\n",
       "    </tr>\n",
       "    <tr>\n",
       "      <th>Grade</th>\n",
       "      <td>2.065270</td>\n",
       "      <td>-0.184800</td>\n",
       "      <td>1.269768</td>\n",
       "    </tr>\n",
       "  </tbody>\n",
       "</table>\n",
       "</div>"
      ],
      "text/plain": [
       "          Person1   Person2   Person3\n",
       "Name     1.400541  2.035197 -0.863068\n",
       "Surname -0.447098 -0.035783  0.930049\n",
       "Age     -0.053555 -0.281840 -0.393685\n",
       "Grade    2.065270 -0.184800  1.269768"
      ]
     },
     "execution_count": 97,
     "metadata": {},
     "output_type": "execute_result"
    }
   ],
   "source": [
    "newDataFrame"
   ]
  },
  {
   "cell_type": "code",
   "execution_count": 111,
   "id": "a3911e85-ef8f-46d1-af3b-383c7465c69c",
   "metadata": {},
   "outputs": [],
   "source": [
    "newIndexList = [\"A\", \"B\", \"C\" ,\"D\"]"
   ]
  },
  {
   "cell_type": "code",
   "execution_count": 121,
   "id": "8a38ee8a-0a10-4b90-a942-dd8cd6a96a3b",
   "metadata": {},
   "outputs": [],
   "source": [
    "newDataFrame[\"New Index\"]= newIndexList"
   ]
  },
  {
   "cell_type": "code",
   "execution_count": 123,
   "id": "579f9940-7dfb-4e15-9793-50c1aa28c1ae",
   "metadata": {},
   "outputs": [
    {
     "data": {
      "text/html": [
       "<div>\n",
       "<style scoped>\n",
       "    .dataframe tbody tr th:only-of-type {\n",
       "        vertical-align: middle;\n",
       "    }\n",
       "\n",
       "    .dataframe tbody tr th {\n",
       "        vertical-align: top;\n",
       "    }\n",
       "\n",
       "    .dataframe thead th {\n",
       "        text-align: right;\n",
       "    }\n",
       "</style>\n",
       "<table border=\"1\" class=\"dataframe\">\n",
       "  <thead>\n",
       "    <tr style=\"text-align: right;\">\n",
       "      <th></th>\n",
       "      <th>Person1</th>\n",
       "      <th>Person2</th>\n",
       "      <th>Person3</th>\n",
       "      <th>New Index</th>\n",
       "    </tr>\n",
       "  </thead>\n",
       "  <tbody>\n",
       "    <tr>\n",
       "      <th>Name</th>\n",
       "      <td>1.400541</td>\n",
       "      <td>2.035197</td>\n",
       "      <td>-0.863068</td>\n",
       "      <td>A</td>\n",
       "    </tr>\n",
       "    <tr>\n",
       "      <th>Surname</th>\n",
       "      <td>-0.447098</td>\n",
       "      <td>-0.035783</td>\n",
       "      <td>0.930049</td>\n",
       "      <td>B</td>\n",
       "    </tr>\n",
       "    <tr>\n",
       "      <th>Age</th>\n",
       "      <td>-0.053555</td>\n",
       "      <td>-0.281840</td>\n",
       "      <td>-0.393685</td>\n",
       "      <td>C</td>\n",
       "    </tr>\n",
       "    <tr>\n",
       "      <th>Grade</th>\n",
       "      <td>2.065270</td>\n",
       "      <td>-0.184800</td>\n",
       "      <td>1.269768</td>\n",
       "      <td>D</td>\n",
       "    </tr>\n",
       "  </tbody>\n",
       "</table>\n",
       "</div>"
      ],
      "text/plain": [
       "          Person1   Person2   Person3 New Index\n",
       "Name     1.400541  2.035197 -0.863068         A\n",
       "Surname -0.447098 -0.035783  0.930049         B\n",
       "Age     -0.053555 -0.281840 -0.393685         C\n",
       "Grade    2.065270 -0.184800  1.269768         D"
      ]
     },
     "execution_count": 123,
     "metadata": {},
     "output_type": "execute_result"
    }
   ],
   "source": [
    "newDataFrame"
   ]
  },
  {
   "cell_type": "code",
   "execution_count": 125,
   "id": "fca29845-5d43-4930-a47b-68ebf0ccd3b2",
   "metadata": {},
   "outputs": [
    {
     "data": {
      "text/html": [
       "<div>\n",
       "<style scoped>\n",
       "    .dataframe tbody tr th:only-of-type {\n",
       "        vertical-align: middle;\n",
       "    }\n",
       "\n",
       "    .dataframe tbody tr th {\n",
       "        vertical-align: top;\n",
       "    }\n",
       "\n",
       "    .dataframe thead th {\n",
       "        text-align: right;\n",
       "    }\n",
       "</style>\n",
       "<table border=\"1\" class=\"dataframe\">\n",
       "  <thead>\n",
       "    <tr style=\"text-align: right;\">\n",
       "      <th></th>\n",
       "      <th>Person1</th>\n",
       "      <th>Person2</th>\n",
       "      <th>Person3</th>\n",
       "    </tr>\n",
       "    <tr>\n",
       "      <th>New Index</th>\n",
       "      <th></th>\n",
       "      <th></th>\n",
       "      <th></th>\n",
       "    </tr>\n",
       "  </thead>\n",
       "  <tbody>\n",
       "    <tr>\n",
       "      <th>A</th>\n",
       "      <td>1.400541</td>\n",
       "      <td>2.035197</td>\n",
       "      <td>-0.863068</td>\n",
       "    </tr>\n",
       "    <tr>\n",
       "      <th>B</th>\n",
       "      <td>-0.447098</td>\n",
       "      <td>-0.035783</td>\n",
       "      <td>0.930049</td>\n",
       "    </tr>\n",
       "    <tr>\n",
       "      <th>C</th>\n",
       "      <td>-0.053555</td>\n",
       "      <td>-0.281840</td>\n",
       "      <td>-0.393685</td>\n",
       "    </tr>\n",
       "    <tr>\n",
       "      <th>D</th>\n",
       "      <td>2.065270</td>\n",
       "      <td>-0.184800</td>\n",
       "      <td>1.269768</td>\n",
       "    </tr>\n",
       "  </tbody>\n",
       "</table>\n",
       "</div>"
      ],
      "text/plain": [
       "            Person1   Person2   Person3\n",
       "New Index                              \n",
       "A          1.400541  2.035197 -0.863068\n",
       "B         -0.447098 -0.035783  0.930049\n",
       "C         -0.053555 -0.281840 -0.393685\n",
       "D          2.065270 -0.184800  1.269768"
      ]
     },
     "execution_count": 125,
     "metadata": {},
     "output_type": "execute_result"
    }
   ],
   "source": [
    "newDataFrame.set_index(\"New Index\")"
   ]
  },
  {
   "cell_type": "code",
   "execution_count": 127,
   "id": "31efe093-2ea6-4111-b277-c7ed316b38bf",
   "metadata": {},
   "outputs": [
    {
     "data": {
      "text/html": [
       "<div>\n",
       "<style scoped>\n",
       "    .dataframe tbody tr th:only-of-type {\n",
       "        vertical-align: middle;\n",
       "    }\n",
       "\n",
       "    .dataframe tbody tr th {\n",
       "        vertical-align: top;\n",
       "    }\n",
       "\n",
       "    .dataframe thead th {\n",
       "        text-align: right;\n",
       "    }\n",
       "</style>\n",
       "<table border=\"1\" class=\"dataframe\">\n",
       "  <thead>\n",
       "    <tr style=\"text-align: right;\">\n",
       "      <th></th>\n",
       "      <th>Person1</th>\n",
       "      <th>Person2</th>\n",
       "      <th>Person3</th>\n",
       "      <th>New Index</th>\n",
       "    </tr>\n",
       "  </thead>\n",
       "  <tbody>\n",
       "    <tr>\n",
       "      <th>Name</th>\n",
       "      <td>1.400541</td>\n",
       "      <td>2.035197</td>\n",
       "      <td>-0.863068</td>\n",
       "      <td>A</td>\n",
       "    </tr>\n",
       "    <tr>\n",
       "      <th>Surname</th>\n",
       "      <td>-0.447098</td>\n",
       "      <td>-0.035783</td>\n",
       "      <td>0.930049</td>\n",
       "      <td>B</td>\n",
       "    </tr>\n",
       "    <tr>\n",
       "      <th>Age</th>\n",
       "      <td>-0.053555</td>\n",
       "      <td>-0.281840</td>\n",
       "      <td>-0.393685</td>\n",
       "      <td>C</td>\n",
       "    </tr>\n",
       "    <tr>\n",
       "      <th>Grade</th>\n",
       "      <td>2.065270</td>\n",
       "      <td>-0.184800</td>\n",
       "      <td>1.269768</td>\n",
       "      <td>D</td>\n",
       "    </tr>\n",
       "  </tbody>\n",
       "</table>\n",
       "</div>"
      ],
      "text/plain": [
       "          Person1   Person2   Person3 New Index\n",
       "Name     1.400541  2.035197 -0.863068         A\n",
       "Surname -0.447098 -0.035783  0.930049         B\n",
       "Age     -0.053555 -0.281840 -0.393685         C\n",
       "Grade    2.065270 -0.184800  1.269768         D"
      ]
     },
     "execution_count": 127,
     "metadata": {},
     "output_type": "execute_result"
    }
   ],
   "source": [
    "newDataFrame"
   ]
  },
  {
   "cell_type": "code",
   "execution_count": 129,
   "id": "2c740bbc-e177-43c4-8682-94df02a9bf0b",
   "metadata": {},
   "outputs": [],
   "source": [
    "newDataFrame.set_index(\"New Index\", inplace=True)"
   ]
  },
  {
   "cell_type": "code",
   "execution_count": 131,
   "id": "d6c6a705-ac8b-4d56-9b8e-6e7e5481c3a7",
   "metadata": {},
   "outputs": [
    {
     "data": {
      "text/html": [
       "<div>\n",
       "<style scoped>\n",
       "    .dataframe tbody tr th:only-of-type {\n",
       "        vertical-align: middle;\n",
       "    }\n",
       "\n",
       "    .dataframe tbody tr th {\n",
       "        vertical-align: top;\n",
       "    }\n",
       "\n",
       "    .dataframe thead th {\n",
       "        text-align: right;\n",
       "    }\n",
       "</style>\n",
       "<table border=\"1\" class=\"dataframe\">\n",
       "  <thead>\n",
       "    <tr style=\"text-align: right;\">\n",
       "      <th></th>\n",
       "      <th>Person1</th>\n",
       "      <th>Person2</th>\n",
       "      <th>Person3</th>\n",
       "    </tr>\n",
       "    <tr>\n",
       "      <th>New Index</th>\n",
       "      <th></th>\n",
       "      <th></th>\n",
       "      <th></th>\n",
       "    </tr>\n",
       "  </thead>\n",
       "  <tbody>\n",
       "    <tr>\n",
       "      <th>A</th>\n",
       "      <td>1.400541</td>\n",
       "      <td>2.035197</td>\n",
       "      <td>-0.863068</td>\n",
       "    </tr>\n",
       "    <tr>\n",
       "      <th>B</th>\n",
       "      <td>-0.447098</td>\n",
       "      <td>-0.035783</td>\n",
       "      <td>0.930049</td>\n",
       "    </tr>\n",
       "    <tr>\n",
       "      <th>C</th>\n",
       "      <td>-0.053555</td>\n",
       "      <td>-0.281840</td>\n",
       "      <td>-0.393685</td>\n",
       "    </tr>\n",
       "    <tr>\n",
       "      <th>D</th>\n",
       "      <td>2.065270</td>\n",
       "      <td>-0.184800</td>\n",
       "      <td>1.269768</td>\n",
       "    </tr>\n",
       "  </tbody>\n",
       "</table>\n",
       "</div>"
      ],
      "text/plain": [
       "            Person1   Person2   Person3\n",
       "New Index                              \n",
       "A          1.400541  2.035197 -0.863068\n",
       "B         -0.447098 -0.035783  0.930049\n",
       "C         -0.053555 -0.281840 -0.393685\n",
       "D          2.065270 -0.184800  1.269768"
      ]
     },
     "execution_count": 131,
     "metadata": {},
     "output_type": "execute_result"
    }
   ],
   "source": [
    "newDataFrame"
   ]
  },
  {
   "cell_type": "code",
   "execution_count": 133,
   "id": "1a615ade-d675-4a98-970e-e322588ee221",
   "metadata": {},
   "outputs": [
    {
     "data": {
      "text/plain": [
       "Person1    1.400541\n",
       "Person2    2.035197\n",
       "Person3   -0.863068\n",
       "Name: A, dtype: float64"
      ]
     },
     "execution_count": 133,
     "metadata": {},
     "output_type": "execute_result"
    }
   ],
   "source": [
    "newDataFrame.loc[\"A\"]"
   ]
  },
  {
   "cell_type": "code",
   "execution_count": 137,
   "id": "71b61b02-beb5-463b-b335-606003612044",
   "metadata": {},
   "outputs": [
    {
     "data": {
      "text/plain": [
       "Person1    1.400541\n",
       "Person2    2.035197\n",
       "Person3   -0.863068\n",
       "Name: A, dtype: float64"
      ]
     },
     "execution_count": 137,
     "metadata": {},
     "output_type": "execute_result"
    }
   ],
   "source": [
    "newDataFrame.iloc[0]"
   ]
  },
  {
   "cell_type": "code",
   "execution_count": 139,
   "id": "3929d195-097e-4d49-ad75-0139556ecb40",
   "metadata": {},
   "outputs": [],
   "source": [
    "firstIndex = [\"DC\", \"DC\",\"Marvel\",\"Marvel\",\"Marvel\"]"
   ]
  },
  {
   "cell_type": "code",
   "execution_count": 141,
   "id": "e6657012-d076-44e9-be3f-b74675e33d34",
   "metadata": {},
   "outputs": [],
   "source": [
    "internalIndex = [\"Batman\", \"Superman\", \"Thor\", \"Captain America\", \"Black Widow\"]"
   ]
  },
  {
   "cell_type": "code",
   "execution_count": 143,
   "id": "c78b86dc-e36f-4b19-a768-0b8c97e94167",
   "metadata": {},
   "outputs": [
    {
     "data": {
      "text/plain": [
       "[('DC', 'Batman'),\n",
       " ('DC', 'Superman'),\n",
       " ('Marvel', 'Thor'),\n",
       " ('Marvel', 'Captain America'),\n",
       " ('Marvel', 'Black Widow')]"
      ]
     },
     "execution_count": 143,
     "metadata": {},
     "output_type": "execute_result"
    }
   ],
   "source": [
    "associatedIndex = list (zip(firstIndex,internalIndex))\n",
    "associatedIndex"
   ]
  },
  {
   "cell_type": "code",
   "execution_count": 145,
   "id": "3fd5bf9e-72bc-43ea-b404-a48f9c59de9b",
   "metadata": {},
   "outputs": [
    {
     "data": {
      "text/plain": [
       "MultiIndex([(    'DC',          'Batman'),\n",
       "            (    'DC',        'Superman'),\n",
       "            ('Marvel',            'Thor'),\n",
       "            ('Marvel', 'Captain America'),\n",
       "            ('Marvel',     'Black Widow')],\n",
       "           )"
      ]
     },
     "execution_count": 145,
     "metadata": {},
     "output_type": "execute_result"
    }
   ],
   "source": [
    "associatedIndex = pd.MultiIndex.from_tuples(associatedIndex)\n",
    "associatedIndex"
   ]
  },
  {
   "cell_type": "code",
   "execution_count": null,
   "id": "9bbf6dc0-775c-4db2-adcd-e7eff152f356",
   "metadata": {},
   "outputs": [],
   "source": [
    "mySuperHeros = [[]]"
   ]
  }
 ],
 "metadata": {
  "kernelspec": {
   "display_name": "Python 3 (ipykernel)",
   "language": "python",
   "name": "python3"
  },
  "language_info": {
   "codemirror_mode": {
    "name": "ipython",
    "version": 3
   },
   "file_extension": ".py",
   "mimetype": "text/x-python",
   "name": "python",
   "nbconvert_exporter": "python",
   "pygments_lexer": "ipython3",
   "version": "3.11.7"
  }
 },
 "nbformat": 4,
 "nbformat_minor": 5
}
